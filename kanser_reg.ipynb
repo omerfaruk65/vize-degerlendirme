{
 "cells": [
  {
   "cell_type": "markdown",
   "metadata": {},
   "source": [
    "# Kanser Veri Setinin Regresyon Yöntemleri İle Analizi"
   ]
  },
  {
   "cell_type": "markdown",
   "metadata": {},
   "source": [
    "##  Veri Setine Genel Bakış"
   ]
  },
  {
   "cell_type": "code",
   "execution_count": 8,
   "metadata": {
    "ExecuteTime": {
     "end_time": "2020-12-14T08:40:39.244178Z",
     "start_time": "2020-12-14T08:40:39.146483Z"
    }
   },
   "outputs": [
    {
     "name": "stdout",
     "output_type": "stream",
     "text": [
      "   avganncount  avgdeathsperyear  target_deathrate  incidencerate  medincome  \\\n",
      "0       1397.0               469             164.9          489.8      61898   \n",
      "1        173.0                70             161.3          411.6      48127   \n",
      "2        102.0                50             174.7          349.7      49348   \n",
      "3        427.0               202             194.8          430.4      44243   \n",
      "4         57.0                26             144.4          350.1      49955   \n",
      "\n",
      "   popest2015  povertypercent  studypercap           binnedinc  medianage  \\\n",
      "0      260131            11.2   499.748204   (61494.5, 125635]       39.3   \n",
      "1       43269            18.6    23.111234  (48021.6, 51046.4]       33.0   \n",
      "2       21026            14.6    47.560164  (48021.6, 51046.4]       45.0   \n",
      "3       75882            17.1   342.637253    (42724.4, 45201]       42.8   \n",
      "4       10321            12.5     0.000000  (48021.6, 51046.4]       48.3   \n",
      "\n",
      "     ...      pctprivatecoveragealone  pctempprivcoverage pctpubliccoverage  \\\n",
      "0    ...                          NaN                41.6              32.9   \n",
      "1    ...                         53.8                43.6              31.1   \n",
      "2    ...                         43.5                34.9              42.1   \n",
      "3    ...                         40.3                35.0              45.3   \n",
      "4    ...                         43.9                35.1              44.0   \n",
      "\n",
      "   pctpubliccoveragealone   pctwhite  pctblack  pctasian  pctotherrace  \\\n",
      "0                    14.0  81.780529  2.594728  4.821857      1.843479   \n",
      "1                    15.3  89.228509  0.969102  2.246233      3.741352   \n",
      "2                    21.1  90.922190  0.739673  0.465898      2.747358   \n",
      "3                    25.0  91.744686  0.782626  1.161359      1.362643   \n",
      "4                    22.7  94.104024  0.270192  0.665830      0.492135   \n",
      "\n",
      "   pctmarriedhouseholds  birthrate  \n",
      "0             52.856076   6.118831  \n",
      "1             45.372500   4.333096  \n",
      "2             54.444868   3.729488  \n",
      "3             51.021514   4.603841  \n",
      "4             54.027460   6.796657  \n",
      "\n",
      "[5 rows x 33 columns]\n"
     ]
    }
   ],
   "source": [
    "import pandas as pd\n",
    "import numpy as np \n",
    "\n",
    "df=pd.read_csv(\"cancer_reg.csv\")\n",
    "print(df.head())"
   ]
  },
  {
   "cell_type": "code",
   "execution_count": 9,
   "metadata": {
    "ExecuteTime": {
     "end_time": "2020-12-14T08:40:39.842993Z",
     "start_time": "2020-12-14T08:40:39.829030Z"
    }
   },
   "outputs": [
    {
     "name": "stdout",
     "output_type": "stream",
     "text": [
      "<class 'pandas.core.frame.DataFrame'>\n",
      "RangeIndex: 3047 entries, 0 to 3046\n",
      "Data columns (total 33 columns):\n",
      "avganncount                3047 non-null float64\n",
      "avgdeathsperyear           3047 non-null int64\n",
      "target_deathrate           3047 non-null float64\n",
      "incidencerate              3047 non-null float64\n",
      "medincome                  3047 non-null int64\n",
      "popest2015                 3047 non-null int64\n",
      "povertypercent             3047 non-null float64\n",
      "studypercap                3047 non-null float64\n",
      "binnedinc                  3047 non-null object\n",
      "medianage                  3047 non-null float64\n",
      "medianagemale              3047 non-null float64\n",
      "medianagefemale            3047 non-null float64\n",
      "geography                  3047 non-null object\n",
      "percentmarried             3047 non-null float64\n",
      "pctnohs18_24               3047 non-null float64\n",
      "pcths18_24                 3047 non-null float64\n",
      "pctsomecol18_24            762 non-null float64\n",
      "pctbachdeg18_24            3047 non-null float64\n",
      "pcths25_over               3047 non-null float64\n",
      "pctbachdeg25_over          3047 non-null float64\n",
      "pctemployed16_over         2895 non-null float64\n",
      "pctunemployed16_over       3047 non-null float64\n",
      "pctprivatecoverage         3047 non-null float64\n",
      "pctprivatecoveragealone    2438 non-null float64\n",
      "pctempprivcoverage         3047 non-null float64\n",
      "pctpubliccoverage          3047 non-null float64\n",
      "pctpubliccoveragealone     3047 non-null float64\n",
      "pctwhite                   3047 non-null float64\n",
      "pctblack                   3047 non-null float64\n",
      "pctasian                   3047 non-null float64\n",
      "pctotherrace               3047 non-null float64\n",
      "pctmarriedhouseholds       3047 non-null float64\n",
      "birthrate                  3047 non-null float64\n",
      "dtypes: float64(28), int64(3), object(2)\n",
      "memory usage: 785.6+ KB\n"
     ]
    }
   ],
   "source": [
    "df.info()"
   ]
  },
  {
   "cell_type": "code",
   "execution_count": 10,
   "metadata": {
    "ExecuteTime": {
     "end_time": "2020-12-14T08:40:40.464736Z",
     "start_time": "2020-12-14T08:40:40.447397Z"
    }
   },
   "outputs": [
    {
     "data": {
      "text/plain": [
       "avganncount                float64\n",
       "avgdeathsperyear             int64\n",
       "target_deathrate           float64\n",
       "incidencerate              float64\n",
       "medincome                    int64\n",
       "popest2015                   int64\n",
       "povertypercent             float64\n",
       "studypercap                float64\n",
       "binnedinc                   object\n",
       "medianage                  float64\n",
       "medianagemale              float64\n",
       "medianagefemale            float64\n",
       "geography                   object\n",
       "percentmarried             float64\n",
       "pctnohs18_24               float64\n",
       "pcths18_24                 float64\n",
       "pctsomecol18_24            float64\n",
       "pctbachdeg18_24            float64\n",
       "pcths25_over               float64\n",
       "pctbachdeg25_over          float64\n",
       "pctemployed16_over         float64\n",
       "pctunemployed16_over       float64\n",
       "pctprivatecoverage         float64\n",
       "pctprivatecoveragealone    float64\n",
       "pctempprivcoverage         float64\n",
       "pctpubliccoverage          float64\n",
       "pctpubliccoveragealone     float64\n",
       "pctwhite                   float64\n",
       "pctblack                   float64\n",
       "pctasian                   float64\n",
       "pctotherrace               float64\n",
       "pctmarriedhouseholds       float64\n",
       "birthrate                  float64\n",
       "dtype: object"
      ]
     },
     "execution_count": 10,
     "metadata": {},
     "output_type": "execute_result"
    }
   ],
   "source": [
    "df.dtypes"
   ]
  },
  {
   "cell_type": "code",
   "execution_count": 11,
   "metadata": {
    "ExecuteTime": {
     "end_time": "2020-12-14T08:40:41.165633Z",
     "start_time": "2020-12-14T08:40:41.054058Z"
    },
    "scrolled": true
   },
   "outputs": [
    {
     "data": {
      "text/html": [
       "<div>\n",
       "<style scoped>\n",
       "    .dataframe tbody tr th:only-of-type {\n",
       "        vertical-align: middle;\n",
       "    }\n",
       "\n",
       "    .dataframe tbody tr th {\n",
       "        vertical-align: top;\n",
       "    }\n",
       "\n",
       "    .dataframe thead th {\n",
       "        text-align: right;\n",
       "    }\n",
       "</style>\n",
       "<table border=\"1\" class=\"dataframe\">\n",
       "  <thead>\n",
       "    <tr style=\"text-align: right;\">\n",
       "      <th></th>\n",
       "      <th>avganncount</th>\n",
       "      <th>avgdeathsperyear</th>\n",
       "      <th>target_deathrate</th>\n",
       "      <th>incidencerate</th>\n",
       "      <th>medincome</th>\n",
       "      <th>popest2015</th>\n",
       "      <th>povertypercent</th>\n",
       "      <th>studypercap</th>\n",
       "      <th>medianage</th>\n",
       "      <th>medianagemale</th>\n",
       "      <th>...</th>\n",
       "      <th>pctprivatecoveragealone</th>\n",
       "      <th>pctempprivcoverage</th>\n",
       "      <th>pctpubliccoverage</th>\n",
       "      <th>pctpubliccoveragealone</th>\n",
       "      <th>pctwhite</th>\n",
       "      <th>pctblack</th>\n",
       "      <th>pctasian</th>\n",
       "      <th>pctotherrace</th>\n",
       "      <th>pctmarriedhouseholds</th>\n",
       "      <th>birthrate</th>\n",
       "    </tr>\n",
       "  </thead>\n",
       "  <tbody>\n",
       "    <tr>\n",
       "      <th>count</th>\n",
       "      <td>3047.000000</td>\n",
       "      <td>3047.000000</td>\n",
       "      <td>3047.000000</td>\n",
       "      <td>3047.000000</td>\n",
       "      <td>3047.000000</td>\n",
       "      <td>3.047000e+03</td>\n",
       "      <td>3047.000000</td>\n",
       "      <td>3047.000000</td>\n",
       "      <td>3047.000000</td>\n",
       "      <td>3047.000000</td>\n",
       "      <td>...</td>\n",
       "      <td>2438.000000</td>\n",
       "      <td>3047.000000</td>\n",
       "      <td>3047.000000</td>\n",
       "      <td>3047.000000</td>\n",
       "      <td>3047.000000</td>\n",
       "      <td>3047.000000</td>\n",
       "      <td>3047.000000</td>\n",
       "      <td>3047.000000</td>\n",
       "      <td>3047.000000</td>\n",
       "      <td>3047.000000</td>\n",
       "    </tr>\n",
       "    <tr>\n",
       "      <th>mean</th>\n",
       "      <td>606.338544</td>\n",
       "      <td>185.965868</td>\n",
       "      <td>178.664063</td>\n",
       "      <td>448.268586</td>\n",
       "      <td>47063.281917</td>\n",
       "      <td>1.026374e+05</td>\n",
       "      <td>16.878175</td>\n",
       "      <td>155.399415</td>\n",
       "      <td>45.272333</td>\n",
       "      <td>39.570725</td>\n",
       "      <td>...</td>\n",
       "      <td>48.453774</td>\n",
       "      <td>41.196324</td>\n",
       "      <td>36.252642</td>\n",
       "      <td>19.240072</td>\n",
       "      <td>83.645286</td>\n",
       "      <td>9.107978</td>\n",
       "      <td>1.253965</td>\n",
       "      <td>1.983523</td>\n",
       "      <td>51.243872</td>\n",
       "      <td>5.640306</td>\n",
       "    </tr>\n",
       "    <tr>\n",
       "      <th>std</th>\n",
       "      <td>1416.356223</td>\n",
       "      <td>504.134286</td>\n",
       "      <td>27.751511</td>\n",
       "      <td>54.560733</td>\n",
       "      <td>12040.090836</td>\n",
       "      <td>3.290592e+05</td>\n",
       "      <td>6.409087</td>\n",
       "      <td>529.628366</td>\n",
       "      <td>45.304480</td>\n",
       "      <td>5.226017</td>\n",
       "      <td>...</td>\n",
       "      <td>10.083006</td>\n",
       "      <td>9.447687</td>\n",
       "      <td>7.841741</td>\n",
       "      <td>6.113041</td>\n",
       "      <td>16.380025</td>\n",
       "      <td>14.534538</td>\n",
       "      <td>2.610276</td>\n",
       "      <td>3.517710</td>\n",
       "      <td>6.572814</td>\n",
       "      <td>1.985816</td>\n",
       "    </tr>\n",
       "    <tr>\n",
       "      <th>min</th>\n",
       "      <td>6.000000</td>\n",
       "      <td>3.000000</td>\n",
       "      <td>59.700000</td>\n",
       "      <td>201.300000</td>\n",
       "      <td>22640.000000</td>\n",
       "      <td>8.270000e+02</td>\n",
       "      <td>3.200000</td>\n",
       "      <td>0.000000</td>\n",
       "      <td>22.300000</td>\n",
       "      <td>22.400000</td>\n",
       "      <td>...</td>\n",
       "      <td>15.700000</td>\n",
       "      <td>13.500000</td>\n",
       "      <td>11.200000</td>\n",
       "      <td>2.600000</td>\n",
       "      <td>10.199155</td>\n",
       "      <td>0.000000</td>\n",
       "      <td>0.000000</td>\n",
       "      <td>0.000000</td>\n",
       "      <td>22.992490</td>\n",
       "      <td>0.000000</td>\n",
       "    </tr>\n",
       "    <tr>\n",
       "      <th>25%</th>\n",
       "      <td>76.000000</td>\n",
       "      <td>28.000000</td>\n",
       "      <td>161.200000</td>\n",
       "      <td>420.300000</td>\n",
       "      <td>38882.500000</td>\n",
       "      <td>1.168400e+04</td>\n",
       "      <td>12.150000</td>\n",
       "      <td>0.000000</td>\n",
       "      <td>37.700000</td>\n",
       "      <td>36.350000</td>\n",
       "      <td>...</td>\n",
       "      <td>41.000000</td>\n",
       "      <td>34.500000</td>\n",
       "      <td>30.900000</td>\n",
       "      <td>14.850000</td>\n",
       "      <td>77.296180</td>\n",
       "      <td>0.620675</td>\n",
       "      <td>0.254199</td>\n",
       "      <td>0.295172</td>\n",
       "      <td>47.763063</td>\n",
       "      <td>4.521419</td>\n",
       "    </tr>\n",
       "    <tr>\n",
       "      <th>50%</th>\n",
       "      <td>171.000000</td>\n",
       "      <td>61.000000</td>\n",
       "      <td>178.100000</td>\n",
       "      <td>453.549422</td>\n",
       "      <td>45207.000000</td>\n",
       "      <td>2.664300e+04</td>\n",
       "      <td>15.900000</td>\n",
       "      <td>0.000000</td>\n",
       "      <td>41.000000</td>\n",
       "      <td>39.600000</td>\n",
       "      <td>...</td>\n",
       "      <td>48.700000</td>\n",
       "      <td>41.100000</td>\n",
       "      <td>36.300000</td>\n",
       "      <td>18.800000</td>\n",
       "      <td>90.059774</td>\n",
       "      <td>2.247576</td>\n",
       "      <td>0.549812</td>\n",
       "      <td>0.826185</td>\n",
       "      <td>51.669941</td>\n",
       "      <td>5.381478</td>\n",
       "    </tr>\n",
       "    <tr>\n",
       "      <th>75%</th>\n",
       "      <td>518.000000</td>\n",
       "      <td>149.000000</td>\n",
       "      <td>195.200000</td>\n",
       "      <td>480.850000</td>\n",
       "      <td>52492.000000</td>\n",
       "      <td>6.867100e+04</td>\n",
       "      <td>20.400000</td>\n",
       "      <td>83.650776</td>\n",
       "      <td>44.000000</td>\n",
       "      <td>42.500000</td>\n",
       "      <td>...</td>\n",
       "      <td>55.600000</td>\n",
       "      <td>47.700000</td>\n",
       "      <td>41.550000</td>\n",
       "      <td>23.100000</td>\n",
       "      <td>95.451693</td>\n",
       "      <td>10.509732</td>\n",
       "      <td>1.221037</td>\n",
       "      <td>2.177960</td>\n",
       "      <td>55.395132</td>\n",
       "      <td>6.493677</td>\n",
       "    </tr>\n",
       "    <tr>\n",
       "      <th>max</th>\n",
       "      <td>38150.000000</td>\n",
       "      <td>14010.000000</td>\n",
       "      <td>362.800000</td>\n",
       "      <td>1206.900000</td>\n",
       "      <td>125635.000000</td>\n",
       "      <td>1.017029e+07</td>\n",
       "      <td>47.400000</td>\n",
       "      <td>9762.308998</td>\n",
       "      <td>624.000000</td>\n",
       "      <td>64.700000</td>\n",
       "      <td>...</td>\n",
       "      <td>78.900000</td>\n",
       "      <td>70.700000</td>\n",
       "      <td>65.100000</td>\n",
       "      <td>46.600000</td>\n",
       "      <td>100.000000</td>\n",
       "      <td>85.947799</td>\n",
       "      <td>42.619425</td>\n",
       "      <td>41.930251</td>\n",
       "      <td>78.075397</td>\n",
       "      <td>21.326165</td>\n",
       "    </tr>\n",
       "  </tbody>\n",
       "</table>\n",
       "<p>8 rows × 31 columns</p>\n",
       "</div>"
      ],
      "text/plain": [
       "        avganncount  avgdeathsperyear  target_deathrate  incidencerate  \\\n",
       "count   3047.000000       3047.000000       3047.000000    3047.000000   \n",
       "mean     606.338544        185.965868        178.664063     448.268586   \n",
       "std     1416.356223        504.134286         27.751511      54.560733   \n",
       "min        6.000000          3.000000         59.700000     201.300000   \n",
       "25%       76.000000         28.000000        161.200000     420.300000   \n",
       "50%      171.000000         61.000000        178.100000     453.549422   \n",
       "75%      518.000000        149.000000        195.200000     480.850000   \n",
       "max    38150.000000      14010.000000        362.800000    1206.900000   \n",
       "\n",
       "           medincome    popest2015  povertypercent  studypercap    medianage  \\\n",
       "count    3047.000000  3.047000e+03     3047.000000  3047.000000  3047.000000   \n",
       "mean    47063.281917  1.026374e+05       16.878175   155.399415    45.272333   \n",
       "std     12040.090836  3.290592e+05        6.409087   529.628366    45.304480   \n",
       "min     22640.000000  8.270000e+02        3.200000     0.000000    22.300000   \n",
       "25%     38882.500000  1.168400e+04       12.150000     0.000000    37.700000   \n",
       "50%     45207.000000  2.664300e+04       15.900000     0.000000    41.000000   \n",
       "75%     52492.000000  6.867100e+04       20.400000    83.650776    44.000000   \n",
       "max    125635.000000  1.017029e+07       47.400000  9762.308998   624.000000   \n",
       "\n",
       "       medianagemale     ...       pctprivatecoveragealone  \\\n",
       "count    3047.000000     ...                   2438.000000   \n",
       "mean       39.570725     ...                     48.453774   \n",
       "std         5.226017     ...                     10.083006   \n",
       "min        22.400000     ...                     15.700000   \n",
       "25%        36.350000     ...                     41.000000   \n",
       "50%        39.600000     ...                     48.700000   \n",
       "75%        42.500000     ...                     55.600000   \n",
       "max        64.700000     ...                     78.900000   \n",
       "\n",
       "       pctempprivcoverage  pctpubliccoverage  pctpubliccoveragealone  \\\n",
       "count         3047.000000        3047.000000             3047.000000   \n",
       "mean            41.196324          36.252642               19.240072   \n",
       "std              9.447687           7.841741                6.113041   \n",
       "min             13.500000          11.200000                2.600000   \n",
       "25%             34.500000          30.900000               14.850000   \n",
       "50%             41.100000          36.300000               18.800000   \n",
       "75%             47.700000          41.550000               23.100000   \n",
       "max             70.700000          65.100000               46.600000   \n",
       "\n",
       "          pctwhite     pctblack     pctasian  pctotherrace  \\\n",
       "count  3047.000000  3047.000000  3047.000000   3047.000000   \n",
       "mean     83.645286     9.107978     1.253965      1.983523   \n",
       "std      16.380025    14.534538     2.610276      3.517710   \n",
       "min      10.199155     0.000000     0.000000      0.000000   \n",
       "25%      77.296180     0.620675     0.254199      0.295172   \n",
       "50%      90.059774     2.247576     0.549812      0.826185   \n",
       "75%      95.451693    10.509732     1.221037      2.177960   \n",
       "max     100.000000    85.947799    42.619425     41.930251   \n",
       "\n",
       "       pctmarriedhouseholds    birthrate  \n",
       "count           3047.000000  3047.000000  \n",
       "mean              51.243872     5.640306  \n",
       "std                6.572814     1.985816  \n",
       "min               22.992490     0.000000  \n",
       "25%               47.763063     4.521419  \n",
       "50%               51.669941     5.381478  \n",
       "75%               55.395132     6.493677  \n",
       "max               78.075397    21.326165  \n",
       "\n",
       "[8 rows x 31 columns]"
      ]
     },
     "execution_count": 11,
     "metadata": {},
     "output_type": "execute_result"
    }
   ],
   "source": [
    "df.describe()"
   ]
  },
  {
   "cell_type": "markdown",
   "metadata": {},
   "source": [
    "## Özellik Seçimi\n",
    "\n",
    "Bu veri setinde tahmini amaçlanan target_deathrate sütunu 3. sütünda yer almakta verileri okumak ve indekslemekte kolaylık olması için tahmini amaçlanan sütün son sütüne alındı."
   ]
  },
  {
   "cell_type": "code",
   "execution_count": 12,
   "metadata": {
    "ExecuteTime": {
     "end_time": "2020-12-14T08:40:41.967528Z",
     "start_time": "2020-12-14T08:40:41.960547Z"
    }
   },
   "outputs": [
    {
     "name": "stdout",
     "output_type": "stream",
     "text": [
      "   target_deathrate\n",
      "0             164.9\n",
      "1             161.3\n",
      "2             174.7\n",
      "3             194.8\n",
      "4             144.4\n"
     ]
    }
   ],
   "source": [
    "yeni_sutun=df.iloc[:,2:3]\n",
    "print(yeni_sutun.head())"
   ]
  },
  {
   "cell_type": "code",
   "execution_count": 13,
   "metadata": {
    "ExecuteTime": {
     "end_time": "2020-12-14T08:40:42.378802Z",
     "start_time": "2020-12-14T08:40:42.374807Z"
    }
   },
   "outputs": [],
   "source": [
    "df[\"target_death_rate\"]=yeni_sutun"
   ]
  },
  {
   "cell_type": "code",
   "execution_count": 14,
   "metadata": {
    "ExecuteTime": {
     "end_time": "2020-12-14T08:40:42.851026Z",
     "start_time": "2020-12-14T08:40:42.832040Z"
    }
   },
   "outputs": [
    {
     "name": "stdout",
     "output_type": "stream",
     "text": [
      "   avganncount  avgdeathsperyear  incidencerate  medincome  popest2015  \\\n",
      "0       1397.0               469          489.8      61898      260131   \n",
      "1        173.0                70          411.6      48127       43269   \n",
      "2        102.0                50          349.7      49348       21026   \n",
      "3        427.0               202          430.4      44243       75882   \n",
      "4         57.0                26          350.1      49955       10321   \n",
      "\n",
      "   povertypercent  studypercap           binnedinc  medianage  medianagemale  \\\n",
      "0            11.2   499.748204   (61494.5, 125635]       39.3           36.9   \n",
      "1            18.6    23.111234  (48021.6, 51046.4]       33.0           32.2   \n",
      "2            14.6    47.560164  (48021.6, 51046.4]       45.0           44.0   \n",
      "3            17.1   342.637253    (42724.4, 45201]       42.8           42.2   \n",
      "4            12.5     0.000000  (48021.6, 51046.4]       48.3           47.8   \n",
      "\n",
      "         ...          pctempprivcoverage pctpubliccoverage  \\\n",
      "0        ...                        41.6              32.9   \n",
      "1        ...                        43.6              31.1   \n",
      "2        ...                        34.9              42.1   \n",
      "3        ...                        35.0              45.3   \n",
      "4        ...                        35.1              44.0   \n",
      "\n",
      "   pctpubliccoveragealone   pctwhite  pctblack  pctasian  pctotherrace  \\\n",
      "0                    14.0  81.780529  2.594728  4.821857      1.843479   \n",
      "1                    15.3  89.228509  0.969102  2.246233      3.741352   \n",
      "2                    21.1  90.922190  0.739673  0.465898      2.747358   \n",
      "3                    25.0  91.744686  0.782626  1.161359      1.362643   \n",
      "4                    22.7  94.104024  0.270192  0.665830      0.492135   \n",
      "\n",
      "   pctmarriedhouseholds  birthrate  target_death_rate  \n",
      "0             52.856076   6.118831              164.9  \n",
      "1             45.372500   4.333096              161.3  \n",
      "2             54.444868   3.729488              174.7  \n",
      "3             51.021514   4.603841              194.8  \n",
      "4             54.027460   6.796657              144.4  \n",
      "\n",
      "[5 rows x 33 columns]\n"
     ]
    }
   ],
   "source": [
    "df.drop([\"target_deathrate\"],axis=1,inplace=True)\n",
    "print(df.head())"
   ]
  },
  {
   "cell_type": "code",
   "execution_count": 15,
   "metadata": {
    "ExecuteTime": {
     "end_time": "2020-12-14T08:40:43.364642Z",
     "start_time": "2020-12-14T08:40:43.352675Z"
    }
   },
   "outputs": [
    {
     "name": "stdout",
     "output_type": "stream",
     "text": [
      "<class 'pandas.core.frame.DataFrame'>\n",
      "RangeIndex: 3047 entries, 0 to 3046\n",
      "Data columns (total 33 columns):\n",
      "avganncount                3047 non-null float64\n",
      "avgdeathsperyear           3047 non-null int64\n",
      "incidencerate              3047 non-null float64\n",
      "medincome                  3047 non-null int64\n",
      "popest2015                 3047 non-null int64\n",
      "povertypercent             3047 non-null float64\n",
      "studypercap                3047 non-null float64\n",
      "binnedinc                  3047 non-null object\n",
      "medianage                  3047 non-null float64\n",
      "medianagemale              3047 non-null float64\n",
      "medianagefemale            3047 non-null float64\n",
      "geography                  3047 non-null object\n",
      "percentmarried             3047 non-null float64\n",
      "pctnohs18_24               3047 non-null float64\n",
      "pcths18_24                 3047 non-null float64\n",
      "pctsomecol18_24            762 non-null float64\n",
      "pctbachdeg18_24            3047 non-null float64\n",
      "pcths25_over               3047 non-null float64\n",
      "pctbachdeg25_over          3047 non-null float64\n",
      "pctemployed16_over         2895 non-null float64\n",
      "pctunemployed16_over       3047 non-null float64\n",
      "pctprivatecoverage         3047 non-null float64\n",
      "pctprivatecoveragealone    2438 non-null float64\n",
      "pctempprivcoverage         3047 non-null float64\n",
      "pctpubliccoverage          3047 non-null float64\n",
      "pctpubliccoveragealone     3047 non-null float64\n",
      "pctwhite                   3047 non-null float64\n",
      "pctblack                   3047 non-null float64\n",
      "pctasian                   3047 non-null float64\n",
      "pctotherrace               3047 non-null float64\n",
      "pctmarriedhouseholds       3047 non-null float64\n",
      "birthrate                  3047 non-null float64\n",
      "target_death_rate          3047 non-null float64\n",
      "dtypes: float64(28), int64(3), object(2)\n",
      "memory usage: 785.6+ KB\n"
     ]
    }
   ],
   "source": [
    "df.info()"
   ]
  },
  {
   "cell_type": "markdown",
   "metadata": {},
   "source": [
    "## Veri Temizliği ve Dönüşümü"
   ]
  },
  {
   "cell_type": "code",
   "execution_count": 16,
   "metadata": {
    "ExecuteTime": {
     "end_time": "2020-12-14T08:40:44.193291Z",
     "start_time": "2020-12-14T08:40:44.187354Z"
    }
   },
   "outputs": [
    {
     "name": "stdout",
     "output_type": "stream",
     "text": [
      "2285\n"
     ]
    }
   ],
   "source": [
    "print(df[\"pctsomecol18_24\"].isnull().sum())"
   ]
  },
  {
   "cell_type": "code",
   "execution_count": 17,
   "metadata": {
    "ExecuteTime": {
     "end_time": "2020-12-14T08:40:44.460830Z",
     "start_time": "2020-12-14T08:40:44.455843Z"
    }
   },
   "outputs": [],
   "source": [
    "#2285 veri satır sayısından çıkarıldığında beklenmeyen verinin olmadığı görüldü ve \n",
    "#bu sütnda kayıp veriler oldukça fazla olduğundan bu sütunun silinmesinde karar kılındı\n",
    "\n",
    "df.drop([\"pctsomecol18_24\"],axis=1,inplace=True)        "
   ]
  },
  {
   "cell_type": "code",
   "execution_count": 18,
   "metadata": {
    "ExecuteTime": {
     "end_time": "2020-12-14T08:40:44.642707Z",
     "start_time": "2020-12-14T08:40:44.637722Z"
    }
   },
   "outputs": [
    {
     "name": "stdout",
     "output_type": "stream",
     "text": [
      "152\n"
     ]
    }
   ],
   "source": [
    "print(df[\"pctemployed16_over\"].isnull().sum())"
   ]
  },
  {
   "cell_type": "code",
   "execution_count": 19,
   "metadata": {
    "ExecuteTime": {
     "end_time": "2020-12-14T08:40:45.022206Z",
     "start_time": "2020-12-14T08:40:45.019211Z"
    }
   },
   "outputs": [],
   "source": [
    "# pctemployed16_over sütununda kayıp veri sayısı 152 olarak bulundu ve beklenmeyen değerlerin olmadığı görüldü"
   ]
  },
  {
   "cell_type": "code",
   "execution_count": 20,
   "metadata": {
    "ExecuteTime": {
     "end_time": "2020-12-14T08:40:45.172819Z",
     "start_time": "2020-12-14T08:40:45.165838Z"
    }
   },
   "outputs": [
    {
     "name": "stdout",
     "output_type": "stream",
     "text": [
      "0       51.9\n",
      "1       55.9\n",
      "2       45.9\n",
      "3       48.3\n",
      "4       48.2\n",
      "5       44.1\n",
      "6       51.8\n",
      "7       40.9\n",
      "8       39.5\n",
      "9       56.6\n",
      "10      54.6\n",
      "11       NaN\n",
      "12      51.5\n",
      "13      62.1\n",
      "14      55.1\n",
      "15      46.3\n",
      "16      56.5\n",
      "17      35.7\n",
      "18      54.5\n",
      "19      57.8\n",
      "20      53.4\n",
      "21      56.0\n",
      "22      46.5\n",
      "23      58.7\n",
      "24      39.5\n",
      "25      44.3\n",
      "26      51.9\n",
      "27      50.3\n",
      "28      39.9\n",
      "29      39.6\n",
      "        ... \n",
      "3017    58.8\n",
      "3018    56.7\n",
      "3019    59.0\n",
      "3020    57.3\n",
      "3021    62.1\n",
      "3022    61.4\n",
      "3023    57.0\n",
      "3024    60.3\n",
      "3025    61.6\n",
      "3026    54.1\n",
      "3027    52.7\n",
      "3028    59.7\n",
      "3029    61.8\n",
      "3030    63.2\n",
      "3031    58.9\n",
      "3032    62.1\n",
      "3033    63.2\n",
      "3034    55.4\n",
      "3035    57.1\n",
      "3036    58.1\n",
      "3037    59.5\n",
      "3038     NaN\n",
      "3039    61.3\n",
      "3040    50.7\n",
      "3041    68.6\n",
      "3042    51.7\n",
      "3043    70.1\n",
      "3044    64.8\n",
      "3045     NaN\n",
      "3046    48.8\n",
      "Name: pctemployed16_over, Length: 3047, dtype: float64\n"
     ]
    }
   ],
   "source": [
    "print(df[\"pctemployed16_over\"])"
   ]
  },
  {
   "cell_type": "code",
   "execution_count": 21,
   "metadata": {
    "ExecuteTime": {
     "end_time": "2020-12-14T08:40:45.526451Z",
     "start_time": "2020-12-14T08:40:45.520470Z"
    }
   },
   "outputs": [],
   "source": [
    "df[\"pctemployed16_over\"].fillna((df[\"pctemployed16_over\"].mean()),inplace=True)"
   ]
  },
  {
   "cell_type": "code",
   "execution_count": 22,
   "metadata": {
    "ExecuteTime": {
     "end_time": "2020-12-14T08:40:45.740571Z",
     "start_time": "2020-12-14T08:40:45.735587Z"
    }
   },
   "outputs": [
    {
     "name": "stdout",
     "output_type": "stream",
     "text": [
      "0     51.900000\n",
      "1     55.900000\n",
      "2     45.900000\n",
      "3     48.300000\n",
      "4     48.200000\n",
      "5     44.100000\n",
      "6     51.800000\n",
      "7     40.900000\n",
      "8     39.500000\n",
      "9     56.600000\n",
      "10    54.600000\n",
      "11    54.152642\n",
      "12    51.500000\n",
      "13    62.100000\n",
      "14    55.100000\n",
      "Name: pctemployed16_over, dtype: float64\n"
     ]
    }
   ],
   "source": [
    "print(df[\"pctemployed16_over\"].head(15)) #eksik veriler sütunun ortalaması ile dolduruldu"
   ]
  },
  {
   "cell_type": "code",
   "execution_count": 23,
   "metadata": {
    "ExecuteTime": {
     "end_time": "2020-12-14T08:40:46.003377Z",
     "start_time": "2020-12-14T08:40:45.996427Z"
    }
   },
   "outputs": [
    {
     "name": "stdout",
     "output_type": "stream",
     "text": [
      "609\n"
     ]
    }
   ],
   "source": [
    "print(df[\"pctprivatecoveragealone\"].isnull().sum()) "
   ]
  },
  {
   "cell_type": "code",
   "execution_count": 24,
   "metadata": {
    "ExecuteTime": {
     "end_time": "2020-12-14T08:40:46.306247Z",
     "start_time": "2020-12-14T08:40:46.302260Z"
    }
   },
   "outputs": [],
   "source": [
    "# pctprivatecoveragealone sütununda kayıp veri sayısı 602 olarak bulundu ve beklenmeyen değerlerin olmadığı görüldü"
   ]
  },
  {
   "cell_type": "code",
   "execution_count": 25,
   "metadata": {
    "ExecuteTime": {
     "end_time": "2020-12-14T08:40:46.564033Z",
     "start_time": "2020-12-14T08:40:46.556055Z"
    }
   },
   "outputs": [
    {
     "name": "stdout",
     "output_type": "stream",
     "text": [
      "0        NaN\n",
      "1       53.8\n",
      "2       43.5\n",
      "3       40.3\n",
      "4       43.9\n",
      "5       38.8\n",
      "6       35.0\n",
      "7       33.1\n",
      "8       37.8\n",
      "9        NaN\n",
      "10       NaN\n",
      "11       NaN\n",
      "12      49.7\n",
      "13      61.6\n",
      "14      50.6\n",
      "15      39.3\n",
      "16      55.4\n",
      "17      38.6\n",
      "18      47.6\n",
      "19      54.6\n",
      "20      66.2\n",
      "21      42.3\n",
      "22      40.1\n",
      "23       NaN\n",
      "24      42.8\n",
      "25      41.9\n",
      "26      49.5\n",
      "27      48.2\n",
      "28      36.5\n",
      "29      33.7\n",
      "        ... \n",
      "3017    51.4\n",
      "3018    49.0\n",
      "3019    45.5\n",
      "3020    53.1\n",
      "3021    53.8\n",
      "3022    49.7\n",
      "3023    51.7\n",
      "3024    48.9\n",
      "3025     NaN\n",
      "3026     NaN\n",
      "3027    41.3\n",
      "3028    53.3\n",
      "3029    57.8\n",
      "3030    57.4\n",
      "3031    50.9\n",
      "3032    56.7\n",
      "3033    52.7\n",
      "3034    52.3\n",
      "3035    45.5\n",
      "3036     NaN\n",
      "3037    54.9\n",
      "3038    66.9\n",
      "3039    51.9\n",
      "3040    42.5\n",
      "3041    64.5\n",
      "3042    54.9\n",
      "3043    53.3\n",
      "3044    52.6\n",
      "3045    56.3\n",
      "3046    60.3\n",
      "Name: pctprivatecoveragealone, Length: 3047, dtype: float64\n"
     ]
    }
   ],
   "source": [
    "print(df[\"pctprivatecoveragealone\"])"
   ]
  },
  {
   "cell_type": "code",
   "execution_count": 26,
   "metadata": {
    "ExecuteTime": {
     "end_time": "2020-12-14T08:40:46.834609Z",
     "start_time": "2020-12-14T08:40:46.827628Z"
    }
   },
   "outputs": [
    {
     "name": "stdout",
     "output_type": "stream",
     "text": [
      "0    48.453774\n",
      "1    53.800000\n",
      "2    43.500000\n",
      "3    40.300000\n",
      "4    43.900000\n",
      "Name: pctprivatecoveragealone, dtype: float64\n"
     ]
    }
   ],
   "source": [
    "df[\"pctprivatecoveragealone\"].fillna((df[\"pctprivatecoveragealone\"].mean()),inplace=True)\n",
    "print(df[\"pctprivatecoveragealone\"].head()) #eksik veriler sütunun ortalaması ile dolduruldu"
   ]
  },
  {
   "cell_type": "code",
   "execution_count": null,
   "metadata": {},
   "outputs": [],
   "source": []
  },
  {
   "cell_type": "markdown",
   "metadata": {},
   "source": [
    "## Aşırı Veri Kontrolü"
   ]
  },
  {
   "cell_type": "code",
   "execution_count": 27,
   "metadata": {
    "ExecuteTime": {
     "end_time": "2020-12-14T08:40:47.552396Z",
     "start_time": "2020-12-14T08:40:47.545417Z"
    }
   },
   "outputs": [
    {
     "name": "stdout",
     "output_type": "stream",
     "text": [
      "(array([   9,  139,  144,  149,  150,  152,  193,  299,  333,  346,  365,\n",
      "        377,  386,  390,  392,  393,  412,  444,  584,  590,  757,  788,\n",
      "        873,  885,  928,  981,  999, 1012, 1015, 1016, 1018, 1020, 1021,\n",
      "       1024, 1026, 1040, 1096, 1100, 1102, 1105, 1139, 1408, 1409, 1412,\n",
      "       1426, 1427, 1437, 1452, 1458, 1467, 1473, 1475, 1477, 1478, 1613,\n",
      "       1625, 1697, 1704, 1741, 1746, 1860, 1969, 2044, 2086, 2097, 2105,\n",
      "       2208, 2313, 2373, 2379, 2384, 2554, 2741, 2744], dtype=int64),)\n"
     ]
    }
   ],
   "source": [
    "from scipy import stats\n",
    "\n",
    "z=np.abs(stats.zscore(df[\"avganncount\"]))\n",
    "print(np.where(z>2))         \n",
    "        \n",
    "   \n",
    "    "
   ]
  },
  {
   "cell_type": "code",
   "execution_count": 28,
   "metadata": {
    "ExecuteTime": {
     "end_time": "2020-12-14T08:40:47.757857Z",
     "start_time": "2020-12-14T08:40:47.753867Z"
    }
   },
   "outputs": [],
   "source": [
    "# veri seti incelendiğinde birbirinden uzak verilerin olması anormal bir durum olmamasından dolayı aşırı verilere dokunulmadı"
   ]
  },
  {
   "cell_type": "code",
   "execution_count": 29,
   "metadata": {
    "ExecuteTime": {
     "end_time": "2020-12-14T08:40:47.949790Z",
     "start_time": "2020-12-14T08:40:47.944848Z"
    }
   },
   "outputs": [],
   "source": [
    "df.reset_index(inplace=True,drop=True)"
   ]
  },
  {
   "cell_type": "markdown",
   "metadata": {
    "ExecuteTime": {
     "end_time": "2020-12-11T20:57:15.240995Z",
     "start_time": "2020-12-11T20:57:15.225036Z"
    }
   },
   "source": [
    "## Normalizasyon"
   ]
  },
  {
   "cell_type": "code",
   "execution_count": 30,
   "metadata": {
    "ExecuteTime": {
     "end_time": "2020-12-14T08:40:48.382998Z",
     "start_time": "2020-12-14T08:40:48.379053Z"
    }
   },
   "outputs": [],
   "source": [
    "# öncelikle indekslemede kolaylık olması açısından string türünde olan \"geography\" sütununu başa alıyoruz"
   ]
  },
  {
   "cell_type": "code",
   "execution_count": 31,
   "metadata": {
    "ExecuteTime": {
     "end_time": "2020-12-14T08:40:48.734878Z",
     "start_time": "2020-12-14T08:40:48.725859Z"
    }
   },
   "outputs": [
    {
     "name": "stdout",
     "output_type": "stream",
     "text": [
      "                      geography\n",
      "0     Kitsap County, Washington\n",
      "1   Kittitas County, Washington\n",
      "2  Klickitat County, Washington\n",
      "3      Lewis County, Washington\n",
      "4    Lincoln County, Washington\n"
     ]
    }
   ],
   "source": [
    "yeni_sutun=df.iloc[:,11:12]\n",
    "print(yeni_sutun.head())"
   ]
  },
  {
   "cell_type": "code",
   "execution_count": 32,
   "metadata": {
    "ExecuteTime": {
     "end_time": "2020-12-14T08:40:49.160489Z",
     "start_time": "2020-12-14T08:40:49.155503Z"
    }
   },
   "outputs": [],
   "source": [
    "df[\"geography_\"]=yeni_sutun"
   ]
  },
  {
   "cell_type": "code",
   "execution_count": 33,
   "metadata": {
    "ExecuteTime": {
     "end_time": "2020-12-14T08:40:49.463061Z",
     "start_time": "2020-12-14T08:40:49.444114Z"
    }
   },
   "outputs": [
    {
     "name": "stdout",
     "output_type": "stream",
     "text": [
      "   avganncount  avgdeathsperyear  incidencerate  medincome  popest2015  \\\n",
      "0       1397.0               469          489.8      61898      260131   \n",
      "1        173.0                70          411.6      48127       43269   \n",
      "2        102.0                50          349.7      49348       21026   \n",
      "3        427.0               202          430.4      44243       75882   \n",
      "4         57.0                26          350.1      49955       10321   \n",
      "\n",
      "   povertypercent  studypercap           binnedinc  medianage  medianagemale  \\\n",
      "0            11.2   499.748204   (61494.5, 125635]       39.3           36.9   \n",
      "1            18.6    23.111234  (48021.6, 51046.4]       33.0           32.2   \n",
      "2            14.6    47.560164  (48021.6, 51046.4]       45.0           44.0   \n",
      "3            17.1   342.637253    (42724.4, 45201]       42.8           42.2   \n",
      "4            12.5     0.000000  (48021.6, 51046.4]       48.3           47.8   \n",
      "\n",
      "               ...               pctpubliccoverage  pctpubliccoveragealone  \\\n",
      "0              ...                            32.9                    14.0   \n",
      "1              ...                            31.1                    15.3   \n",
      "2              ...                            42.1                    21.1   \n",
      "3              ...                            45.3                    25.0   \n",
      "4              ...                            44.0                    22.7   \n",
      "\n",
      "    pctwhite  pctblack  pctasian  pctotherrace  pctmarriedhouseholds  \\\n",
      "0  81.780529  2.594728  4.821857      1.843479             52.856076   \n",
      "1  89.228509  0.969102  2.246233      3.741352             45.372500   \n",
      "2  90.922190  0.739673  0.465898      2.747358             54.444868   \n",
      "3  91.744686  0.782626  1.161359      1.362643             51.021514   \n",
      "4  94.104024  0.270192  0.665830      0.492135             54.027460   \n",
      "\n",
      "   birthrate  target_death_rate                    geography_  \n",
      "0   6.118831              164.9     Kitsap County, Washington  \n",
      "1   4.333096              161.3   Kittitas County, Washington  \n",
      "2   3.729488              174.7  Klickitat County, Washington  \n",
      "3   4.603841              194.8      Lewis County, Washington  \n",
      "4   6.796657              144.4    Lincoln County, Washington  \n",
      "\n",
      "[5 rows x 32 columns]\n"
     ]
    }
   ],
   "source": [
    "df.drop([\"geography\"],axis=1,inplace=True)\n",
    "print(df.head())"
   ]
  },
  {
   "cell_type": "code",
   "execution_count": 34,
   "metadata": {
    "ExecuteTime": {
     "end_time": "2020-12-14T08:40:49.834376Z",
     "start_time": "2020-12-14T08:40:49.826397Z"
    }
   },
   "outputs": [
    {
     "name": "stdout",
     "output_type": "stream",
     "text": [
      "   target_death_rate\n",
      "0              164.9\n",
      "1              161.3\n",
      "2              174.7\n",
      "3              194.8\n",
      "4              144.4\n"
     ]
    }
   ],
   "source": [
    "yeni_sutun2=df.iloc[:,30:31]\n",
    "print(yeni_sutun2.head())"
   ]
  },
  {
   "cell_type": "code",
   "execution_count": 35,
   "metadata": {
    "ExecuteTime": {
     "end_time": "2020-12-14T08:40:50.174641Z",
     "start_time": "2020-12-14T08:40:50.170656Z"
    }
   },
   "outputs": [],
   "source": [
    "df[\"Target_death_rate\"]=yeni_sutun2"
   ]
  },
  {
   "cell_type": "code",
   "execution_count": 36,
   "metadata": {
    "ExecuteTime": {
     "end_time": "2020-12-14T08:40:50.918096Z",
     "start_time": "2020-12-14T08:40:50.898148Z"
    }
   },
   "outputs": [
    {
     "name": "stdout",
     "output_type": "stream",
     "text": [
      "   avganncount  avgdeathsperyear  incidencerate  medincome  popest2015  \\\n",
      "0       1397.0               469          489.8      61898      260131   \n",
      "1        173.0                70          411.6      48127       43269   \n",
      "2        102.0                50          349.7      49348       21026   \n",
      "3        427.0               202          430.4      44243       75882   \n",
      "4         57.0                26          350.1      49955       10321   \n",
      "\n",
      "   povertypercent  studypercap           binnedinc  medianage  medianagemale  \\\n",
      "0            11.2   499.748204   (61494.5, 125635]       39.3           36.9   \n",
      "1            18.6    23.111234  (48021.6, 51046.4]       33.0           32.2   \n",
      "2            14.6    47.560164  (48021.6, 51046.4]       45.0           44.0   \n",
      "3            17.1   342.637253    (42724.4, 45201]       42.8           42.2   \n",
      "4            12.5     0.000000  (48021.6, 51046.4]       48.3           47.8   \n",
      "\n",
      "         ...          pctpubliccoverage  pctpubliccoveragealone   pctwhite  \\\n",
      "0        ...                       32.9                    14.0  81.780529   \n",
      "1        ...                       31.1                    15.3  89.228509   \n",
      "2        ...                       42.1                    21.1  90.922190   \n",
      "3        ...                       45.3                    25.0  91.744686   \n",
      "4        ...                       44.0                    22.7  94.104024   \n",
      "\n",
      "   pctblack  pctasian  pctotherrace  pctmarriedhouseholds  birthrate  \\\n",
      "0  2.594728  4.821857      1.843479             52.856076   6.118831   \n",
      "1  0.969102  2.246233      3.741352             45.372500   4.333096   \n",
      "2  0.739673  0.465898      2.747358             54.444868   3.729488   \n",
      "3  0.782626  1.161359      1.362643             51.021514   4.603841   \n",
      "4  0.270192  0.665830      0.492135             54.027460   6.796657   \n",
      "\n",
      "                     geography_  Target_death_rate  \n",
      "0     Kitsap County, Washington              164.9  \n",
      "1   Kittitas County, Washington              161.3  \n",
      "2  Klickitat County, Washington              174.7  \n",
      "3      Lewis County, Washington              194.8  \n",
      "4    Lincoln County, Washington              144.4  \n",
      "\n",
      "[5 rows x 32 columns]\n"
     ]
    }
   ],
   "source": [
    "df.drop([\"target_death_rate\"],axis=1,inplace=True)\n",
    "print(df.head())"
   ]
  },
  {
   "cell_type": "code",
   "execution_count": 37,
   "metadata": {
    "ExecuteTime": {
     "end_time": "2020-12-14T08:40:51.553251Z",
     "start_time": "2020-12-14T08:40:51.549262Z"
    }
   },
   "outputs": [],
   "source": [
    "# \"binnedinc\"  adlı sütun object türünde ve bu sütunu int türüne program çevirirken hata vermekte bu yüzden veri setinde zorluklar çıkarmakta. Sonuç olarak bu sütunun silinmesine karar verilmiştir. "
   ]
  },
  {
   "cell_type": "code",
   "execution_count": 38,
   "metadata": {
    "ExecuteTime": {
     "end_time": "2020-12-14T08:40:52.080966Z",
     "start_time": "2020-12-14T08:40:52.059027Z"
    }
   },
   "outputs": [
    {
     "name": "stdout",
     "output_type": "stream",
     "text": [
      "   avganncount  avgdeathsperyear  incidencerate  medincome  popest2015  \\\n",
      "0       1397.0               469          489.8      61898      260131   \n",
      "1        173.0                70          411.6      48127       43269   \n",
      "2        102.0                50          349.7      49348       21026   \n",
      "3        427.0               202          430.4      44243       75882   \n",
      "4         57.0                26          350.1      49955       10321   \n",
      "\n",
      "   povertypercent  studypercap  medianage  medianagemale  medianagefemale  \\\n",
      "0            11.2   499.748204       39.3           36.9             41.7   \n",
      "1            18.6    23.111234       33.0           32.2             33.7   \n",
      "2            14.6    47.560164       45.0           44.0             45.8   \n",
      "3            17.1   342.637253       42.8           42.2             43.4   \n",
      "4            12.5     0.000000       48.3           47.8             48.9   \n",
      "\n",
      "         ...          pctpubliccoverage  pctpubliccoveragealone   pctwhite  \\\n",
      "0        ...                       32.9                    14.0  81.780529   \n",
      "1        ...                       31.1                    15.3  89.228509   \n",
      "2        ...                       42.1                    21.1  90.922190   \n",
      "3        ...                       45.3                    25.0  91.744686   \n",
      "4        ...                       44.0                    22.7  94.104024   \n",
      "\n",
      "   pctblack  pctasian  pctotherrace  pctmarriedhouseholds  birthrate  \\\n",
      "0  2.594728  4.821857      1.843479             52.856076   6.118831   \n",
      "1  0.969102  2.246233      3.741352             45.372500   4.333096   \n",
      "2  0.739673  0.465898      2.747358             54.444868   3.729488   \n",
      "3  0.782626  1.161359      1.362643             51.021514   4.603841   \n",
      "4  0.270192  0.665830      0.492135             54.027460   6.796657   \n",
      "\n",
      "                     geography_  Target_death_rate  \n",
      "0     Kitsap County, Washington              164.9  \n",
      "1   Kittitas County, Washington              161.3  \n",
      "2  Klickitat County, Washington              174.7  \n",
      "3      Lewis County, Washington              194.8  \n",
      "4    Lincoln County, Washington              144.4  \n",
      "\n",
      "[5 rows x 31 columns]\n"
     ]
    }
   ],
   "source": [
    "df.drop([\"binnedinc\"],axis=1,inplace=True)\n",
    "print(df.head())"
   ]
  },
  {
   "cell_type": "code",
   "execution_count": 39,
   "metadata": {
    "ExecuteTime": {
     "end_time": "2020-12-14T08:40:52.650945Z",
     "start_time": "2020-12-14T08:40:52.569163Z"
    }
   },
   "outputs": [
    {
     "name": "stdout",
     "output_type": "stream",
     "text": [
      "      avganncount  avgdeathsperyear  incidencerate  medincome  popest2015  \\\n",
      "0        0.036467          0.033269       0.286893   0.381164    0.025498   \n",
      "1        0.004378          0.004783       0.209129   0.247459    0.004173   \n",
      "2        0.002517          0.003355       0.147574   0.259314    0.001986   \n",
      "3        0.011037          0.014207       0.227824   0.209748    0.007380   \n",
      "4        0.001337          0.001642       0.147971   0.265207    0.000934   \n",
      "5        0.011063          0.010638       0.302407   0.288101    0.005919   \n",
      "6        0.006397          0.006711       0.259049   0.147017    0.004001   \n",
      "7        0.003670          0.004855       0.201571   0.170387    0.001969   \n",
      "8        0.002150          0.002356       0.256663   0.193592    0.001206   \n",
      "9        0.105364          0.098308       0.307876   0.366591    0.082908   \n",
      "10       0.002805          0.002356       0.210819   0.311481    0.001517   \n",
      "11       0.019243          0.018991       0.296340   0.279188    0.011900   \n",
      "12       0.001285          0.001642       0.196500   0.291597    0.001034   \n",
      "13       0.089975          0.079603       0.290473   0.478179    0.075881   \n",
      "14       0.059223          0.064111       0.238067   0.266450    0.048195   \n",
      "15       0.006423          0.007353       0.221261   0.205670    0.004225   \n",
      "16       0.036284          0.034269       0.292959   0.378785    0.026423   \n",
      "17       0.000682          0.000643       0.260442   0.275567    0.000316   \n",
      "18       0.007839          0.008353       0.239857   0.263887    0.005852   \n",
      "19       0.028183          0.025987       0.287987   0.301888    0.020793   \n",
      "20       0.003356          0.003355       0.188146   0.186388    0.004656   \n",
      "21       0.024958          0.028557       0.208532   0.210709    0.024387   \n",
      "22       0.002307          0.002713       0.242542   0.125977    0.001561   \n",
      "23       0.012925          0.015135       0.260342   0.331055    0.010922   \n",
      "24       0.003828          0.004783       0.298827   0.145492    0.002217   \n",
      "25       0.001940          0.002642       0.194212   0.108520    0.001336   \n",
      "26       0.004142          0.004712       0.278739   0.203233    0.002215   \n",
      "27       0.014629          0.016706       0.280529   0.118909    0.009442   \n",
      "28       0.001154          0.001571       0.257160   0.092451    0.000653   \n",
      "29       0.001678          0.001642       0.387530   0.100209    0.000795   \n",
      "...           ...               ...            ...        ...         ...   \n",
      "3017     0.002124          0.002213       0.250497   0.266693    0.001175   \n",
      "3018     0.051297          0.002356       0.250845   0.160746    0.001169   \n",
      "3019     0.051297          0.001356       0.250845   0.220671    0.000686   \n",
      "3020     0.051297          0.002427       0.250845   0.209321    0.001531   \n",
      "3021     0.051297          0.000857       0.250845   0.281917    0.000393   \n",
      "3022     0.051297          0.004569       0.250845   0.235953    0.002584   \n",
      "3023     0.051297          0.002213       0.250845   0.153308    0.001365   \n",
      "3024     0.051297          0.001642       0.250845   0.224681    0.000880   \n",
      "3025     0.051297          0.008781       0.250845   0.363930    0.006482   \n",
      "3026     0.051297          0.000357       0.250845   0.236759    0.000182   \n",
      "3027     0.051297          0.000714       0.250845   0.160008    0.000253   \n",
      "3028     0.051297          0.000428       0.250845   0.185999    0.000182   \n",
      "3029     0.051297          0.000214       0.250845   0.242827    0.000125   \n",
      "3030     0.051297          0.001499       0.250845   0.296043    0.000739   \n",
      "3031     0.051297          0.001713       0.250845   0.194738    0.000825   \n",
      "3032     0.051297          0.001356       0.250845   0.321035    0.000743   \n",
      "3033     0.051297          0.000286       0.250845   0.220525    0.000100   \n",
      "3034     0.051297          0.005854       0.250845   0.218846    0.003438   \n",
      "3035     0.051297          0.000714       0.250845   0.182475    0.000207   \n",
      "3036     0.051297          0.003498       0.250845   0.241303    0.001817   \n",
      "3037     0.051297          0.000928       0.250845   0.242332    0.000685   \n",
      "3038     0.051297          0.009638       0.250845   0.258323    0.011527   \n",
      "3039     0.051297          0.000428       0.250845   0.258420    0.000211   \n",
      "3040     0.051297          0.000643       0.250845   0.134288    0.000175   \n",
      "3041     0.051297          0.003213       0.250845   0.260867    0.002773   \n",
      "3042     0.051297          0.000857       0.250845   0.236138    0.000542   \n",
      "3043     0.051297          0.002856       0.250845   0.252138    0.003569   \n",
      "3044     0.051297          0.003070       0.250845   0.276751    0.003315   \n",
      "3045     0.051297          0.003498       0.250845   0.272877    0.002437   \n",
      "3046     0.051297          0.003213       0.250845   0.180135    0.003560   \n",
      "\n",
      "      povertypercent  studypercap  medianage  medianagemale  medianagefemale  \\\n",
      "0           0.180995     0.051192   0.028253       0.342790         0.447005   \n",
      "1           0.348416     0.002367   0.017783       0.231678         0.262673   \n",
      "2           0.257919     0.004872   0.037726       0.510638         0.541475   \n",
      "3           0.314480     0.035098   0.034070       0.468085         0.486175   \n",
      "4           0.210407     0.000000   0.043211       0.600473         0.612903   \n",
      "5           0.280543     0.018465   0.038391       0.498818         0.592166   \n",
      "6           0.452489     0.000000   0.033738       0.468085         0.488479   \n",
      "7           0.330317     0.000000   0.048862       0.671395         0.695853   \n",
      "8           0.432127     0.000000   0.044873       0.614657         0.633641   \n",
      "9           0.223982     0.043816   0.022436       0.290780         0.338710   \n",
      "10          0.214932     0.000000   0.053349       0.747045         0.744240   \n",
      "11          0.282805     0.085750   0.031079       0.416076         0.458525   \n",
      "12          0.212670     0.000000   0.038059       0.531915         0.534562   \n",
      "13          0.151584     0.014188   0.025428       0.335697         0.377880   \n",
      "14          0.296380     0.047363   0.024763       0.314421         0.377880   \n",
      "15          0.364253     0.000000   0.039721       0.548463         0.564516   \n",
      "16          0.196833     0.021282   0.026924       0.347518         0.405530   \n",
      "17          0.242081     0.000000   0.049526       0.687943         0.709677   \n",
      "18          0.282805     0.047535   0.024265       0.309693         0.387097   \n",
      "19          0.282805     0.025574   0.023600       0.312057         0.350230   \n",
      "20          0.570136     0.000000   0.003158       0.047281         0.036866   \n",
      "21          0.391403     0.030875   0.016952       0.217494         0.260369   \n",
      "22          0.414027     0.000000   0.031910       0.437352         0.456221   \n",
      "23          0.226244     0.009154   0.026758       0.368794         0.375576   \n",
      "24          0.427602     0.000000   0.032574       0.444444         0.481567   \n",
      "25          0.429864     0.000000   0.036895       0.503546         0.529954   \n",
      "26          0.269231     0.000000   0.039222       0.513002         0.592166   \n",
      "27          0.423077     0.033847   0.026924       0.342790         0.405530   \n",
      "28          0.420814     0.000000   0.041050       0.595745         0.557604   \n",
      "29          0.495475     0.505851   0.034901       0.496454         0.483871   \n",
      "...              ...          ...        ...            ...              ...   \n",
      "3017        0.199095     0.000000   0.037062       0.496454         0.543779   \n",
      "3018        0.339367     0.000000   0.031411       0.413712         0.486175   \n",
      "3019        0.251131     0.000000   0.032242       0.425532         0.470046   \n",
      "3020        0.321267     0.000000   0.022603       0.276596         0.347926   \n",
      "3021        0.208145     0.148672   0.037560       0.541371         0.516129   \n",
      "3022        0.330317     0.071810   0.028253       0.380615         0.419355   \n",
      "3023        0.343891     0.438648   0.024929       0.274232         0.423963   \n",
      "3024        0.319005     0.031435   0.033572       0.449173         0.488479   \n",
      "3025        0.183258     0.099763   0.025760       0.333333         0.377880   \n",
      "3026        0.226244     0.000000   0.039721       0.534279         0.582949   \n",
      "3027        0.298643     0.000000   0.044540       0.576832         0.661290   \n",
      "3028        0.187783     0.000000   0.045371       0.567376         0.695853   \n",
      "3029        0.221719     0.000000   0.036729       0.468085         0.518433   \n",
      "3030        0.174208     0.000000   0.033073       0.442080         0.502304   \n",
      "3031        0.244344     0.000000   0.033239       0.418440         0.534562   \n",
      "3032        0.174208     0.000000   0.036231       0.484634         0.513825   \n",
      "3033        0.185520     0.000000   0.038890       0.505910         0.619816   \n",
      "3034        0.266968     0.194634   0.026425       0.333333         0.407834   \n",
      "3035        0.242081     0.000000   0.049859       0.697400         0.702765   \n",
      "3036        0.178733     0.000000   0.032242       0.444444         0.460829   \n",
      "3037        0.266968     0.000000   0.027422       0.352246         0.419355   \n",
      "3038        0.366516     0.067681   0.010803       0.132388         0.170507   \n",
      "3039        0.165158     0.069026   0.038059       0.539007         0.529954   \n",
      "3040        0.321267     0.000000   0.046701       0.631206         0.688940   \n",
      "3041        0.221719     0.074103   0.016453       0.203310         0.264977   \n",
      "3042        0.208145     0.000000   0.036397       0.442080         0.610599   \n",
      "3043        0.352941     0.038636   0.013462       0.163121         0.209677   \n",
      "3044        0.266968     0.201690   0.014293       0.191489         0.205069   \n",
      "3045        0.228507     0.000000   0.027755       0.342790         0.419355   \n",
      "3046        0.242081     0.000000   0.006482       0.073286         0.108295   \n",
      "\n",
      "        ...      pctprivatecoveragealone  pctempprivcoverage  \\\n",
      "0       ...                     0.518256            0.491259   \n",
      "1       ...                     0.602848            0.526224   \n",
      "2       ...                     0.439873            0.374126   \n",
      "3       ...                     0.389241            0.375874   \n",
      "4       ...                     0.446203            0.377622   \n",
      "5       ...                     0.365506            0.333916   \n",
      "6       ...                     0.305380            0.258741   \n",
      "7       ...                     0.275316            0.216783   \n",
      "8       ...                     0.349684            0.286713   \n",
      "9       ...                     0.518256            0.540210   \n",
      "10      ...                     0.518256            0.251748   \n",
      "11      ...                     0.518256            0.428322   \n",
      "12      ...                     0.537975            0.508741   \n",
      "13      ...                     0.726266            0.713287   \n",
      "14      ...                     0.552215            0.506993   \n",
      "15      ...                     0.373418            0.356643   \n",
      "16      ...                     0.628165            0.524476   \n",
      "17      ...                     0.362342            0.379371   \n",
      "18      ...                     0.504747            0.463287   \n",
      "19      ...                     0.615506            0.547203   \n",
      "20      ...                     0.799051            0.704545   \n",
      "21      ...                     0.420886            0.302448   \n",
      "22      ...                     0.386076            0.402098   \n",
      "23      ...                     0.518256            0.632867   \n",
      "24      ...                     0.428797            0.486014   \n",
      "25      ...                     0.414557            0.444056   \n",
      "26      ...                     0.534810            0.575175   \n",
      "27      ...                     0.514241            0.540210   \n",
      "28      ...                     0.329114            0.377622   \n",
      "29      ...                     0.284810            0.333916   \n",
      "...     ...                          ...                 ...   \n",
      "3017    ...                     0.564873            0.527972   \n",
      "3018    ...                     0.526899            0.510490   \n",
      "3019    ...                     0.471519            0.356643   \n",
      "3020    ...                     0.591772            0.568182   \n",
      "3021    ...                     0.602848            0.468531   \n",
      "3022    ...                     0.537975            0.505245   \n",
      "3023    ...                     0.569620            0.529720   \n",
      "3024    ...                     0.525316            0.480769   \n",
      "3025    ...                     0.518256            0.727273   \n",
      "3026    ...                     0.518256            0.538462   \n",
      "3027    ...                     0.405063            0.361888   \n",
      "3028    ...                     0.594937            0.451049   \n",
      "3029    ...                     0.666139            0.680070   \n",
      "3030    ...                     0.659810            0.520979   \n",
      "3031    ...                     0.556962            0.493007   \n",
      "3032    ...                     0.648734            0.641608   \n",
      "3033    ...                     0.585443            0.531469   \n",
      "3034    ...                     0.579114            0.571678   \n",
      "3035    ...                     0.471519            0.386364   \n",
      "3036    ...                     0.518256            0.503497   \n",
      "3037    ...                     0.620253            0.562937   \n",
      "3038    ...                     0.810127            0.730769   \n",
      "3039    ...                     0.572785            0.452797   \n",
      "3040    ...                     0.424051            0.396853   \n",
      "3041    ...                     0.772152            0.688811   \n",
      "3042    ...                     0.620253            0.543706   \n",
      "3043    ...                     0.594937            0.613636   \n",
      "3044    ...                     0.583861            0.599650   \n",
      "3045    ...                     0.642405            0.631119   \n",
      "3046    ...                     0.705696            0.164336   \n",
      "\n",
      "      pctpubliccoverage  pctpubliccoveragealone  pctwhite  pctblack  pctasian  \\\n",
      "0              0.402597                0.259091  0.797112  0.030190  0.113138   \n",
      "1              0.369202                0.288636  0.880051  0.011275  0.052704   \n",
      "2              0.573284                0.420455  0.898912  0.008606  0.010932   \n",
      "3              0.632653                0.509091  0.908071  0.009106  0.027250   \n",
      "4              0.608534                0.456818  0.934344  0.003144  0.015623   \n",
      "5              0.593692                0.400000  0.831657  0.019235  0.036088   \n",
      "6              0.653061                0.593182  0.722792  0.007178  0.020323   \n",
      "7              0.736549                0.488636  0.882035  0.003551  0.044324   \n",
      "8              0.684601                0.545455  0.908547  0.002153  0.004885   \n",
      "9              0.374768                0.315909  0.718596  0.078081  0.141754   \n",
      "10             0.564007                0.356818  0.917298  0.007584  0.033528   \n",
      "11             0.499072                0.400000  0.839537  0.009379  0.044295   \n",
      "12             0.461967                0.406818  0.926706  0.009831  0.022956   \n",
      "13             0.272727                0.261364  0.764287  0.030203  0.223173   \n",
      "14             0.469388                0.427273  0.877932  0.021258  0.054341   \n",
      "15             0.641929                0.488636  0.879483  0.005691  0.014170   \n",
      "16             0.361781                0.252273  0.806084  0.033042  0.136928   \n",
      "17             0.714286                0.404545  0.921622  0.001442  0.026749   \n",
      "18             0.497217                0.368182  0.846759  0.019188  0.037950   \n",
      "19             0.384045                0.336364  0.838201  0.010247  0.092098   \n",
      "20             0.217069                0.211364  0.817180  0.025069  0.178673   \n",
      "21             0.454545                0.450000  0.755242  0.009805  0.025568   \n",
      "22             0.623377                0.540909  0.964858  0.009736  0.008835   \n",
      "23             0.406308                0.334091  0.864157  0.085322  0.024688   \n",
      "24             0.651206                0.518182  0.981208  0.007854  0.002151   \n",
      "25             0.597403                0.518182  0.976752  0.005791  0.000000   \n",
      "26             0.528757                0.381818  0.964567  0.020305  0.012096   \n",
      "27             0.515770                0.434091  0.900551  0.056058  0.027917   \n",
      "28             0.645640                0.513636  0.980549  0.001078  0.001242   \n",
      "29             0.756957                0.679545  0.978194  0.000000  0.000000   \n",
      "...                 ...                     ...       ...       ...       ...   \n",
      "3017           0.502783                0.334091  0.940689  0.004407  0.011790   \n",
      "3018           0.491651                0.386364  0.927215  0.019835  0.012018   \n",
      "3019           0.489796                0.325000  0.945985  0.001326  0.000000   \n",
      "3020           0.385900                0.295455  0.895023  0.047637  0.007900   \n",
      "3021           0.428571                0.261364  0.954943  0.003903  0.010822   \n",
      "3022           0.423006                0.340909  0.909691  0.019789  0.004196   \n",
      "3023           0.478664                0.406818  0.922940  0.041004  0.020435   \n",
      "3024           0.495362                0.368182  0.844122  0.020373  0.013299   \n",
      "3025           0.283859                0.229545  0.928359  0.023766  0.022046   \n",
      "3026           0.447124                0.259091  0.952953  0.010259  0.000000   \n",
      "3027           0.593692                0.397727  0.870610  0.006611  0.000000   \n",
      "3028           0.413729                0.161364  0.941041  0.000000  0.027120   \n",
      "3029           0.339518                0.238636  0.907072  0.011933  0.017502   \n",
      "3030           0.419295                0.218182  0.963370  0.007046  0.012817   \n",
      "3031           0.430427                0.275000  0.943958  0.004983  0.019094   \n",
      "3032           0.387755                0.272727  0.957342  0.009079  0.014980   \n",
      "3033           0.389610                0.150000  0.977285  0.000000  0.012841   \n",
      "3034           0.430427                0.336364  0.863238  0.036860  0.037785   \n",
      "3035           0.534323                0.306818  0.961284  0.004806  0.000000   \n",
      "3036           0.432282                0.295455  0.938775  0.006021  0.006853   \n",
      "3037           0.339518                0.270455  0.907899  0.042933  0.005673   \n",
      "3038           0.155844                0.138636  0.825089  0.046533  0.103412   \n",
      "3039           0.359926                0.293182  0.930751  0.010503  0.007060   \n",
      "3040           0.636364                0.402273  0.937328  0.009107  0.009620   \n",
      "3041           0.243043                0.156818  0.936434  0.013323  0.032533   \n",
      "3042           0.380334                0.240909  0.891770  0.044652  0.007687   \n",
      "3043           0.326531                0.343182  0.729471  0.027072  0.094908   \n",
      "3044           0.285714                0.322727  0.865944  0.026914  0.030889   \n",
      "3045           0.339518                0.259091  0.920999  0.013689  0.005740   \n",
      "3046           0.257885                0.227273  0.667020  0.193025  0.074561   \n",
      "\n",
      "      pctotherrace  pctmarriedhouseholds  birthrate  \n",
      "0         0.043965              0.542157   0.286917  \n",
      "1         0.089228              0.406297   0.203182  \n",
      "2         0.065522              0.571001   0.174879  \n",
      "3         0.032498              0.508852   0.215878  \n",
      "4         0.011737              0.563423   0.318700  \n",
      "5         0.079051              0.512462   0.232788  \n",
      "6         0.199301              0.508713   0.197144  \n",
      "7         0.054525              0.471554   0.276148  \n",
      "8         0.014713              0.552885   0.262006  \n",
      "9         0.064373              0.491461   0.259467  \n",
      "10        0.053360              0.491013   0.215047  \n",
      "11        0.148499              0.543632   0.272818  \n",
      "12        0.018455              0.543821   0.225338  \n",
      "13        0.053725              0.539696   0.221758  \n",
      "14        0.024651              0.457418   0.251139  \n",
      "15        0.020646              0.584935   0.170264  \n",
      "16        0.029248              0.506182   0.242901  \n",
      "17        0.000000              0.551668   0.025109  \n",
      "18        0.134407              0.478090   0.194067  \n",
      "19        0.057855              0.455246   0.209742  \n",
      "20        0.038526              0.318821   0.154935  \n",
      "21        0.308853              0.502452   0.307632  \n",
      "22        0.000713              0.586323   0.107514  \n",
      "23        0.021606              0.517965   0.228474  \n",
      "24        0.003081              0.545928   0.197892  \n",
      "25        0.000000              0.549721   0.256447  \n",
      "26        0.001512              0.446504   0.233072  \n",
      "27        0.005444              0.322650   0.212036  \n",
      "28        0.000631              0.550821   0.224143  \n",
      "29        0.001044              0.637221   0.410437  \n",
      "...            ...                   ...        ...  \n",
      "3017      0.067661              0.508973   0.304178  \n",
      "3018      0.014221              0.457802   0.408363  \n",
      "3019      0.000000              0.594363   0.394774  \n",
      "3020      0.009607              0.437796   0.281949  \n",
      "3021      0.006000              0.624563   0.394703  \n",
      "3022      0.093746              0.492073   0.333892  \n",
      "3023      0.003542              0.538098   0.570187  \n",
      "3024      0.003862              0.506239   0.373929  \n",
      "3025      0.009562              0.618314   0.267567  \n",
      "3026      0.010514              0.516475   0.235928  \n",
      "3027      0.000000              0.552687   0.122537  \n",
      "3028      0.077363              0.540656   0.505288  \n",
      "3029      0.041138              0.499119   0.316371  \n",
      "3030      0.004815              0.666368   0.316247  \n",
      "3031      0.042136              0.409702   0.332080  \n",
      "3032      0.002538              0.583139   0.348640  \n",
      "3033      0.023730              0.631559   0.218732  \n",
      "3034      0.045148              0.503570   0.347205  \n",
      "3035      0.009852              0.357815   0.334211  \n",
      "3036      0.019064              0.585001   0.307863  \n",
      "3037      0.002124              0.598042   0.219717  \n",
      "3038      0.014480              0.342240   0.194450  \n",
      "3039      0.082128              0.598606   0.197435  \n",
      "3040      0.010667              0.529333   0.143022  \n",
      "3041      0.024184              0.368250   0.186512  \n",
      "3042      0.040555              0.509620   0.364506  \n",
      "3043      0.336995              0.526760   0.383870  \n",
      "3044      0.135480              0.583874   0.366179  \n",
      "3045      0.050841              0.644333   0.355570  \n",
      "3046      0.032350              0.599964   0.421160  \n",
      "\n",
      "[3047 rows x 29 columns]\n"
     ]
    }
   ],
   "source": [
    "dfScaler = df.loc[:,\"avganncount\":\"birthrate\"]\n",
    "x = (dfScaler - np.min(dfScaler))/(np.max(dfScaler)-np.min(dfScaler)) #tercihim\n",
    "print(x)"
   ]
  },
  {
   "cell_type": "code",
   "execution_count": 40,
   "metadata": {
    "ExecuteTime": {
     "end_time": "2020-12-14T08:40:53.036489Z",
     "start_time": "2020-12-14T08:40:53.026516Z"
    }
   },
   "outputs": [
    {
     "name": "stdout",
     "output_type": "stream",
     "text": [
      "0       0.347080\n",
      "1       0.335203\n",
      "2       0.379413\n",
      "3       0.445727\n",
      "4       0.279446\n",
      "5       0.383702\n",
      "6       0.383372\n",
      "7       0.408776\n",
      "8       0.431541\n",
      "9       0.389640\n",
      "10      0.203563\n",
      "11      0.372814\n",
      "12      0.424282\n",
      "13      0.348400\n",
      "14      0.367206\n",
      "15      0.377763\n",
      "16      0.363576\n",
      "17      0.310459\n",
      "18      0.340152\n",
      "19      0.341801\n",
      "20      0.267568\n",
      "21      0.361927\n",
      "22      0.428901\n",
      "23      0.483009\n",
      "24      0.583966\n",
      "25      0.450676\n",
      "26      0.417354\n",
      "27      0.443088\n",
      "28      0.550313\n",
      "29      0.505444\n",
      "          ...   \n",
      "3017    0.328604\n",
      "3018    0.451006\n",
      "3019    0.379743\n",
      "3020    0.397559\n",
      "3021    0.455625\n",
      "3022    0.391290\n",
      "3023    0.352689\n",
      "3024    0.410756\n",
      "3025    0.380403\n",
      "3026    0.389640\n",
      "3027    0.443748\n",
      "3028    0.297921\n",
      "3029    0.310129\n",
      "3030    0.361267\n",
      "3031    0.392280\n",
      "3032    0.385681\n",
      "3033    0.494556\n",
      "3034    0.411415\n",
      "3035    0.511382\n",
      "3036    0.400858\n",
      "3037    0.331904\n",
      "3038    0.310129\n",
      "3039    0.490267\n",
      "3040    0.515341\n",
      "3041    0.286044\n",
      "3042    0.296602\n",
      "3043    0.298251\n",
      "3044    0.310789\n",
      "3045    0.380403\n",
      "3046    0.507753\n",
      "Name: Target_death_rate, Length: 3047, dtype: float64\n"
     ]
    }
   ],
   "source": [
    "dfScaler2 = df.loc[:,\"Target_death_rate\"]\n",
    "y= (dfScaler2 - np.min(dfScaler2))/(np.max(dfScaler2)-np.min(dfScaler2)) #tercihim\n",
    "print(y)"
   ]
  },
  {
   "cell_type": "code",
   "execution_count": 41,
   "metadata": {
    "ExecuteTime": {
     "end_time": "2020-12-14T08:40:53.498664Z",
     "start_time": "2020-12-14T08:40:53.465752Z"
    }
   },
   "outputs": [
    {
     "name": "stdout",
     "output_type": "stream",
     "text": [
      "                           geography_  avganncount  avgdeathsperyear  \\\n",
      "0           Kitsap County, Washington     0.036467          0.033269   \n",
      "1         Kittitas County, Washington     0.004378          0.004783   \n",
      "2        Klickitat County, Washington     0.002517          0.003355   \n",
      "3            Lewis County, Washington     0.011037          0.014207   \n",
      "4          Lincoln County, Washington     0.001337          0.001642   \n",
      "5            Mason County, Washington     0.011063          0.010638   \n",
      "6         Okanogan County, Washington     0.006397          0.006711   \n",
      "7          Pacific County, Washington     0.003670          0.004855   \n",
      "8     Pend Oreille County, Washington     0.002150          0.002356   \n",
      "9           Pierce County, Washington     0.105364          0.098308   \n",
      "10        San Juan County, Washington     0.002805          0.002356   \n",
      "11          Skagit County, Washington     0.019243          0.018991   \n",
      "12        Skamania County, Washington     0.001285          0.001642   \n",
      "13       Snohomish County, Washington     0.089975          0.079603   \n",
      "14         Spokane County, Washington     0.059223          0.064111   \n",
      "15         Stevens County, Washington     0.006423          0.007353   \n",
      "16        Thurston County, Washington     0.036284          0.034269   \n",
      "17       Wahkiakum County, Washington     0.000682          0.000643   \n",
      "18     Walla Walla County, Washington     0.007839          0.008353   \n",
      "19         Whatcom County, Washington     0.028183          0.025987   \n",
      "20         Whitman County, Washington     0.003356          0.003355   \n",
      "21          Yakima County, Washington     0.024958          0.028557   \n",
      "22      Barbour County, West Virginia     0.002307          0.002713   \n",
      "23     Berkeley County, West Virginia     0.012925          0.015135   \n",
      "24        Boone County, West Virginia     0.003828          0.004783   \n",
      "25      Braxton County, West Virginia     0.001940          0.002642   \n",
      "26       Brooke County, West Virginia     0.004142          0.004712   \n",
      "27       Cabell County, West Virginia     0.014629          0.016706   \n",
      "28      Calhoun County, West Virginia     0.001154          0.001571   \n",
      "29         Clay County, West Virginia     0.001678          0.001642   \n",
      "...                               ...          ...               ...   \n",
      "3017              Wright County, Iowa     0.002124          0.002213   \n",
      "3018             Allen County, Kansas     0.051297          0.002356   \n",
      "3019          Anderson County, Kansas     0.051297          0.001356   \n",
      "3020          Atchison County, Kansas     0.051297          0.002427   \n",
      "3021            Barber County, Kansas     0.051297          0.000857   \n",
      "3022            Barton County, Kansas     0.051297          0.004569   \n",
      "3023           Bourbon County, Kansas     0.051297          0.002213   \n",
      "3024             Brown County, Kansas     0.051297          0.001642   \n",
      "3025            Butler County, Kansas     0.051297          0.008781   \n",
      "3026             Chase County, Kansas     0.051297          0.000357   \n",
      "3027        Chautauqua County, Kansas     0.051297          0.000714   \n",
      "3028          Cheyenne County, Kansas     0.051297          0.000428   \n",
      "3029             Clark County, Kansas     0.051297          0.000214   \n",
      "3030              Clay County, Kansas     0.051297          0.001499   \n",
      "3031             Cloud County, Kansas     0.051297          0.001713   \n",
      "3032            Coffey County, Kansas     0.051297          0.001356   \n",
      "3033          Comanche County, Kansas     0.051297          0.000286   \n",
      "3034            Cowley County, Kansas     0.051297          0.005854   \n",
      "3035           Decatur County, Kansas     0.051297          0.000714   \n",
      "3036         Dickinson County, Kansas     0.051297          0.003498   \n",
      "3037          Doniphan County, Kansas     0.051297          0.000928   \n",
      "3038           Douglas County, Kansas     0.051297          0.009638   \n",
      "3039           Edwards County, Kansas     0.051297          0.000428   \n",
      "3040               Elk County, Kansas     0.051297          0.000643   \n",
      "3041             Ellis County, Kansas     0.051297          0.003213   \n",
      "3042         Ellsworth County, Kansas     0.051297          0.000857   \n",
      "3043            Finney County, Kansas     0.051297          0.002856   \n",
      "3044              Ford County, Kansas     0.051297          0.003070   \n",
      "3045          Franklin County, Kansas     0.051297          0.003498   \n",
      "3046             Geary County, Kansas     0.051297          0.003213   \n",
      "\n",
      "      incidencerate  medincome  popest2015  povertypercent  studypercap  \\\n",
      "0          0.286893   0.381164    0.025498        0.180995     0.051192   \n",
      "1          0.209129   0.247459    0.004173        0.348416     0.002367   \n",
      "2          0.147574   0.259314    0.001986        0.257919     0.004872   \n",
      "3          0.227824   0.209748    0.007380        0.314480     0.035098   \n",
      "4          0.147971   0.265207    0.000934        0.210407     0.000000   \n",
      "5          0.302407   0.288101    0.005919        0.280543     0.018465   \n",
      "6          0.259049   0.147017    0.004001        0.452489     0.000000   \n",
      "7          0.201571   0.170387    0.001969        0.330317     0.000000   \n",
      "8          0.256663   0.193592    0.001206        0.432127     0.000000   \n",
      "9          0.307876   0.366591    0.082908        0.223982     0.043816   \n",
      "10         0.210819   0.311481    0.001517        0.214932     0.000000   \n",
      "11         0.296340   0.279188    0.011900        0.282805     0.085750   \n",
      "12         0.196500   0.291597    0.001034        0.212670     0.000000   \n",
      "13         0.290473   0.478179    0.075881        0.151584     0.014188   \n",
      "14         0.238067   0.266450    0.048195        0.296380     0.047363   \n",
      "15         0.221261   0.205670    0.004225        0.364253     0.000000   \n",
      "16         0.292959   0.378785    0.026423        0.196833     0.021282   \n",
      "17         0.260442   0.275567    0.000316        0.242081     0.000000   \n",
      "18         0.239857   0.263887    0.005852        0.282805     0.047535   \n",
      "19         0.287987   0.301888    0.020793        0.282805     0.025574   \n",
      "20         0.188146   0.186388    0.004656        0.570136     0.000000   \n",
      "21         0.208532   0.210709    0.024387        0.391403     0.030875   \n",
      "22         0.242542   0.125977    0.001561        0.414027     0.000000   \n",
      "23         0.260342   0.331055    0.010922        0.226244     0.009154   \n",
      "24         0.298827   0.145492    0.002217        0.427602     0.000000   \n",
      "25         0.194212   0.108520    0.001336        0.429864     0.000000   \n",
      "26         0.278739   0.203233    0.002215        0.269231     0.000000   \n",
      "27         0.280529   0.118909    0.009442        0.423077     0.033847   \n",
      "28         0.257160   0.092451    0.000653        0.420814     0.000000   \n",
      "29         0.387530   0.100209    0.000795        0.495475     0.505851   \n",
      "...             ...        ...         ...             ...          ...   \n",
      "3017       0.250497   0.266693    0.001175        0.199095     0.000000   \n",
      "3018       0.250845   0.160746    0.001169        0.339367     0.000000   \n",
      "3019       0.250845   0.220671    0.000686        0.251131     0.000000   \n",
      "3020       0.250845   0.209321    0.001531        0.321267     0.000000   \n",
      "3021       0.250845   0.281917    0.000393        0.208145     0.148672   \n",
      "3022       0.250845   0.235953    0.002584        0.330317     0.071810   \n",
      "3023       0.250845   0.153308    0.001365        0.343891     0.438648   \n",
      "3024       0.250845   0.224681    0.000880        0.319005     0.031435   \n",
      "3025       0.250845   0.363930    0.006482        0.183258     0.099763   \n",
      "3026       0.250845   0.236759    0.000182        0.226244     0.000000   \n",
      "3027       0.250845   0.160008    0.000253        0.298643     0.000000   \n",
      "3028       0.250845   0.185999    0.000182        0.187783     0.000000   \n",
      "3029       0.250845   0.242827    0.000125        0.221719     0.000000   \n",
      "3030       0.250845   0.296043    0.000739        0.174208     0.000000   \n",
      "3031       0.250845   0.194738    0.000825        0.244344     0.000000   \n",
      "3032       0.250845   0.321035    0.000743        0.174208     0.000000   \n",
      "3033       0.250845   0.220525    0.000100        0.185520     0.000000   \n",
      "3034       0.250845   0.218846    0.003438        0.266968     0.194634   \n",
      "3035       0.250845   0.182475    0.000207        0.242081     0.000000   \n",
      "3036       0.250845   0.241303    0.001817        0.178733     0.000000   \n",
      "3037       0.250845   0.242332    0.000685        0.266968     0.000000   \n",
      "3038       0.250845   0.258323    0.011527        0.366516     0.067681   \n",
      "3039       0.250845   0.258420    0.000211        0.165158     0.069026   \n",
      "3040       0.250845   0.134288    0.000175        0.321267     0.000000   \n",
      "3041       0.250845   0.260867    0.002773        0.221719     0.074103   \n",
      "3042       0.250845   0.236138    0.000542        0.208145     0.000000   \n",
      "3043       0.250845   0.252138    0.003569        0.352941     0.038636   \n",
      "3044       0.250845   0.276751    0.003315        0.266968     0.201690   \n",
      "3045       0.250845   0.272877    0.002437        0.228507     0.000000   \n",
      "3046       0.250845   0.180135    0.003560        0.242081     0.000000   \n",
      "\n",
      "      medianage  medianagemale        ...          pctempprivcoverage  \\\n",
      "0      0.028253       0.342790        ...                    0.491259   \n",
      "1      0.017783       0.231678        ...                    0.526224   \n",
      "2      0.037726       0.510638        ...                    0.374126   \n",
      "3      0.034070       0.468085        ...                    0.375874   \n",
      "4      0.043211       0.600473        ...                    0.377622   \n",
      "5      0.038391       0.498818        ...                    0.333916   \n",
      "6      0.033738       0.468085        ...                    0.258741   \n",
      "7      0.048862       0.671395        ...                    0.216783   \n",
      "8      0.044873       0.614657        ...                    0.286713   \n",
      "9      0.022436       0.290780        ...                    0.540210   \n",
      "10     0.053349       0.747045        ...                    0.251748   \n",
      "11     0.031079       0.416076        ...                    0.428322   \n",
      "12     0.038059       0.531915        ...                    0.508741   \n",
      "13     0.025428       0.335697        ...                    0.713287   \n",
      "14     0.024763       0.314421        ...                    0.506993   \n",
      "15     0.039721       0.548463        ...                    0.356643   \n",
      "16     0.026924       0.347518        ...                    0.524476   \n",
      "17     0.049526       0.687943        ...                    0.379371   \n",
      "18     0.024265       0.309693        ...                    0.463287   \n",
      "19     0.023600       0.312057        ...                    0.547203   \n",
      "20     0.003158       0.047281        ...                    0.704545   \n",
      "21     0.016952       0.217494        ...                    0.302448   \n",
      "22     0.031910       0.437352        ...                    0.402098   \n",
      "23     0.026758       0.368794        ...                    0.632867   \n",
      "24     0.032574       0.444444        ...                    0.486014   \n",
      "25     0.036895       0.503546        ...                    0.444056   \n",
      "26     0.039222       0.513002        ...                    0.575175   \n",
      "27     0.026924       0.342790        ...                    0.540210   \n",
      "28     0.041050       0.595745        ...                    0.377622   \n",
      "29     0.034901       0.496454        ...                    0.333916   \n",
      "...         ...            ...        ...                         ...   \n",
      "3017   0.037062       0.496454        ...                    0.527972   \n",
      "3018   0.031411       0.413712        ...                    0.510490   \n",
      "3019   0.032242       0.425532        ...                    0.356643   \n",
      "3020   0.022603       0.276596        ...                    0.568182   \n",
      "3021   0.037560       0.541371        ...                    0.468531   \n",
      "3022   0.028253       0.380615        ...                    0.505245   \n",
      "3023   0.024929       0.274232        ...                    0.529720   \n",
      "3024   0.033572       0.449173        ...                    0.480769   \n",
      "3025   0.025760       0.333333        ...                    0.727273   \n",
      "3026   0.039721       0.534279        ...                    0.538462   \n",
      "3027   0.044540       0.576832        ...                    0.361888   \n",
      "3028   0.045371       0.567376        ...                    0.451049   \n",
      "3029   0.036729       0.468085        ...                    0.680070   \n",
      "3030   0.033073       0.442080        ...                    0.520979   \n",
      "3031   0.033239       0.418440        ...                    0.493007   \n",
      "3032   0.036231       0.484634        ...                    0.641608   \n",
      "3033   0.038890       0.505910        ...                    0.531469   \n",
      "3034   0.026425       0.333333        ...                    0.571678   \n",
      "3035   0.049859       0.697400        ...                    0.386364   \n",
      "3036   0.032242       0.444444        ...                    0.503497   \n",
      "3037   0.027422       0.352246        ...                    0.562937   \n",
      "3038   0.010803       0.132388        ...                    0.730769   \n",
      "3039   0.038059       0.539007        ...                    0.452797   \n",
      "3040   0.046701       0.631206        ...                    0.396853   \n",
      "3041   0.016453       0.203310        ...                    0.688811   \n",
      "3042   0.036397       0.442080        ...                    0.543706   \n",
      "3043   0.013462       0.163121        ...                    0.613636   \n",
      "3044   0.014293       0.191489        ...                    0.599650   \n",
      "3045   0.027755       0.342790        ...                    0.631119   \n",
      "3046   0.006482       0.073286        ...                    0.164336   \n",
      "\n",
      "      pctpubliccoverage  pctpubliccoveragealone  pctwhite  pctblack  pctasian  \\\n",
      "0              0.402597                0.259091  0.797112  0.030190  0.113138   \n",
      "1              0.369202                0.288636  0.880051  0.011275  0.052704   \n",
      "2              0.573284                0.420455  0.898912  0.008606  0.010932   \n",
      "3              0.632653                0.509091  0.908071  0.009106  0.027250   \n",
      "4              0.608534                0.456818  0.934344  0.003144  0.015623   \n",
      "5              0.593692                0.400000  0.831657  0.019235  0.036088   \n",
      "6              0.653061                0.593182  0.722792  0.007178  0.020323   \n",
      "7              0.736549                0.488636  0.882035  0.003551  0.044324   \n",
      "8              0.684601                0.545455  0.908547  0.002153  0.004885   \n",
      "9              0.374768                0.315909  0.718596  0.078081  0.141754   \n",
      "10             0.564007                0.356818  0.917298  0.007584  0.033528   \n",
      "11             0.499072                0.400000  0.839537  0.009379  0.044295   \n",
      "12             0.461967                0.406818  0.926706  0.009831  0.022956   \n",
      "13             0.272727                0.261364  0.764287  0.030203  0.223173   \n",
      "14             0.469388                0.427273  0.877932  0.021258  0.054341   \n",
      "15             0.641929                0.488636  0.879483  0.005691  0.014170   \n",
      "16             0.361781                0.252273  0.806084  0.033042  0.136928   \n",
      "17             0.714286                0.404545  0.921622  0.001442  0.026749   \n",
      "18             0.497217                0.368182  0.846759  0.019188  0.037950   \n",
      "19             0.384045                0.336364  0.838201  0.010247  0.092098   \n",
      "20             0.217069                0.211364  0.817180  0.025069  0.178673   \n",
      "21             0.454545                0.450000  0.755242  0.009805  0.025568   \n",
      "22             0.623377                0.540909  0.964858  0.009736  0.008835   \n",
      "23             0.406308                0.334091  0.864157  0.085322  0.024688   \n",
      "24             0.651206                0.518182  0.981208  0.007854  0.002151   \n",
      "25             0.597403                0.518182  0.976752  0.005791  0.000000   \n",
      "26             0.528757                0.381818  0.964567  0.020305  0.012096   \n",
      "27             0.515770                0.434091  0.900551  0.056058  0.027917   \n",
      "28             0.645640                0.513636  0.980549  0.001078  0.001242   \n",
      "29             0.756957                0.679545  0.978194  0.000000  0.000000   \n",
      "...                 ...                     ...       ...       ...       ...   \n",
      "3017           0.502783                0.334091  0.940689  0.004407  0.011790   \n",
      "3018           0.491651                0.386364  0.927215  0.019835  0.012018   \n",
      "3019           0.489796                0.325000  0.945985  0.001326  0.000000   \n",
      "3020           0.385900                0.295455  0.895023  0.047637  0.007900   \n",
      "3021           0.428571                0.261364  0.954943  0.003903  0.010822   \n",
      "3022           0.423006                0.340909  0.909691  0.019789  0.004196   \n",
      "3023           0.478664                0.406818  0.922940  0.041004  0.020435   \n",
      "3024           0.495362                0.368182  0.844122  0.020373  0.013299   \n",
      "3025           0.283859                0.229545  0.928359  0.023766  0.022046   \n",
      "3026           0.447124                0.259091  0.952953  0.010259  0.000000   \n",
      "3027           0.593692                0.397727  0.870610  0.006611  0.000000   \n",
      "3028           0.413729                0.161364  0.941041  0.000000  0.027120   \n",
      "3029           0.339518                0.238636  0.907072  0.011933  0.017502   \n",
      "3030           0.419295                0.218182  0.963370  0.007046  0.012817   \n",
      "3031           0.430427                0.275000  0.943958  0.004983  0.019094   \n",
      "3032           0.387755                0.272727  0.957342  0.009079  0.014980   \n",
      "3033           0.389610                0.150000  0.977285  0.000000  0.012841   \n",
      "3034           0.430427                0.336364  0.863238  0.036860  0.037785   \n",
      "3035           0.534323                0.306818  0.961284  0.004806  0.000000   \n",
      "3036           0.432282                0.295455  0.938775  0.006021  0.006853   \n",
      "3037           0.339518                0.270455  0.907899  0.042933  0.005673   \n",
      "3038           0.155844                0.138636  0.825089  0.046533  0.103412   \n",
      "3039           0.359926                0.293182  0.930751  0.010503  0.007060   \n",
      "3040           0.636364                0.402273  0.937328  0.009107  0.009620   \n",
      "3041           0.243043                0.156818  0.936434  0.013323  0.032533   \n",
      "3042           0.380334                0.240909  0.891770  0.044652  0.007687   \n",
      "3043           0.326531                0.343182  0.729471  0.027072  0.094908   \n",
      "3044           0.285714                0.322727  0.865944  0.026914  0.030889   \n",
      "3045           0.339518                0.259091  0.920999  0.013689  0.005740   \n",
      "3046           0.257885                0.227273  0.667020  0.193025  0.074561   \n",
      "\n",
      "      pctotherrace  pctmarriedhouseholds  birthrate  Target_death_rate  \n",
      "0         0.043965              0.542157   0.286917           0.347080  \n",
      "1         0.089228              0.406297   0.203182           0.335203  \n",
      "2         0.065522              0.571001   0.174879           0.379413  \n",
      "3         0.032498              0.508852   0.215878           0.445727  \n",
      "4         0.011737              0.563423   0.318700           0.279446  \n",
      "5         0.079051              0.512462   0.232788           0.383702  \n",
      "6         0.199301              0.508713   0.197144           0.383372  \n",
      "7         0.054525              0.471554   0.276148           0.408776  \n",
      "8         0.014713              0.552885   0.262006           0.431541  \n",
      "9         0.064373              0.491461   0.259467           0.389640  \n",
      "10        0.053360              0.491013   0.215047           0.203563  \n",
      "11        0.148499              0.543632   0.272818           0.372814  \n",
      "12        0.018455              0.543821   0.225338           0.424282  \n",
      "13        0.053725              0.539696   0.221758           0.348400  \n",
      "14        0.024651              0.457418   0.251139           0.367206  \n",
      "15        0.020646              0.584935   0.170264           0.377763  \n",
      "16        0.029248              0.506182   0.242901           0.363576  \n",
      "17        0.000000              0.551668   0.025109           0.310459  \n",
      "18        0.134407              0.478090   0.194067           0.340152  \n",
      "19        0.057855              0.455246   0.209742           0.341801  \n",
      "20        0.038526              0.318821   0.154935           0.267568  \n",
      "21        0.308853              0.502452   0.307632           0.361927  \n",
      "22        0.000713              0.586323   0.107514           0.428901  \n",
      "23        0.021606              0.517965   0.228474           0.483009  \n",
      "24        0.003081              0.545928   0.197892           0.583966  \n",
      "25        0.000000              0.549721   0.256447           0.450676  \n",
      "26        0.001512              0.446504   0.233072           0.417354  \n",
      "27        0.005444              0.322650   0.212036           0.443088  \n",
      "28        0.000631              0.550821   0.224143           0.550313  \n",
      "29        0.001044              0.637221   0.410437           0.505444  \n",
      "...            ...                   ...        ...                ...  \n",
      "3017      0.067661              0.508973   0.304178           0.328604  \n",
      "3018      0.014221              0.457802   0.408363           0.451006  \n",
      "3019      0.000000              0.594363   0.394774           0.379743  \n",
      "3020      0.009607              0.437796   0.281949           0.397559  \n",
      "3021      0.006000              0.624563   0.394703           0.455625  \n",
      "3022      0.093746              0.492073   0.333892           0.391290  \n",
      "3023      0.003542              0.538098   0.570187           0.352689  \n",
      "3024      0.003862              0.506239   0.373929           0.410756  \n",
      "3025      0.009562              0.618314   0.267567           0.380403  \n",
      "3026      0.010514              0.516475   0.235928           0.389640  \n",
      "3027      0.000000              0.552687   0.122537           0.443748  \n",
      "3028      0.077363              0.540656   0.505288           0.297921  \n",
      "3029      0.041138              0.499119   0.316371           0.310129  \n",
      "3030      0.004815              0.666368   0.316247           0.361267  \n",
      "3031      0.042136              0.409702   0.332080           0.392280  \n",
      "3032      0.002538              0.583139   0.348640           0.385681  \n",
      "3033      0.023730              0.631559   0.218732           0.494556  \n",
      "3034      0.045148              0.503570   0.347205           0.411415  \n",
      "3035      0.009852              0.357815   0.334211           0.511382  \n",
      "3036      0.019064              0.585001   0.307863           0.400858  \n",
      "3037      0.002124              0.598042   0.219717           0.331904  \n",
      "3038      0.014480              0.342240   0.194450           0.310129  \n",
      "3039      0.082128              0.598606   0.197435           0.490267  \n",
      "3040      0.010667              0.529333   0.143022           0.515341  \n",
      "3041      0.024184              0.368250   0.186512           0.286044  \n",
      "3042      0.040555              0.509620   0.364506           0.296602  \n",
      "3043      0.336995              0.526760   0.383870           0.298251  \n",
      "3044      0.135480              0.583874   0.366179           0.310789  \n",
      "3045      0.050841              0.644333   0.355570           0.380403  \n",
      "3046      0.032350              0.599964   0.421160           0.507753  \n",
      "\n",
      "[3047 rows x 31 columns]\n"
     ]
    }
   ],
   "source": [
    "dfNew=pd.concat([df.loc[:,[\"geography_\"]],x,y],axis=1)\n",
    "print(dfNew)"
   ]
  },
  {
   "cell_type": "code",
   "execution_count": 42,
   "metadata": {
    "ExecuteTime": {
     "end_time": "2020-12-14T08:40:54.004961Z",
     "start_time": "2020-12-14T08:40:53.796227Z"
    }
   },
   "outputs": [],
   "source": [
    "dfNew.to_csv(\"kanser_reg_yeni\")\n"
   ]
  },
  {
   "cell_type": "markdown",
   "metadata": {},
   "source": [
    "##  Regresyon Yöntemleri İle Analiz"
   ]
  },
  {
   "cell_type": "markdown",
   "metadata": {},
   "source": [
    "###  Multiple Linear Regression"
   ]
  },
  {
   "cell_type": "code",
   "execution_count": 49,
   "metadata": {
    "ExecuteTime": {
     "end_time": "2020-12-14T08:45:03.997818Z",
     "start_time": "2020-12-14T08:45:03.844225Z"
    }
   },
   "outputs": [
    {
     "name": "stdout",
     "output_type": "stream",
     "text": [
      "   Unnamed: 0                    geography_  avganncount  avgdeathsperyear  \\\n",
      "0           0     Kitsap County, Washington     0.036467          0.033269   \n",
      "1           1   Kittitas County, Washington     0.004378          0.004783   \n",
      "2           2  Klickitat County, Washington     0.002517          0.003355   \n",
      "3           3      Lewis County, Washington     0.011037          0.014207   \n",
      "4           4    Lincoln County, Washington     0.001337          0.001642   \n",
      "\n",
      "   incidencerate  medincome  popest2015  povertypercent  studypercap  \\\n",
      "0       0.286893   0.381164    0.025498        0.180995     0.051192   \n",
      "1       0.209129   0.247459    0.004173        0.348416     0.002367   \n",
      "2       0.147574   0.259314    0.001986        0.257919     0.004872   \n",
      "3       0.227824   0.209748    0.007380        0.314480     0.035098   \n",
      "4       0.147971   0.265207    0.000934        0.210407     0.000000   \n",
      "\n",
      "   medianage        ...          pctempprivcoverage  pctpubliccoverage  \\\n",
      "0   0.028253        ...                    0.491259           0.402597   \n",
      "1   0.017783        ...                    0.526224           0.369202   \n",
      "2   0.037726        ...                    0.374126           0.573284   \n",
      "3   0.034070        ...                    0.375874           0.632653   \n",
      "4   0.043211        ...                    0.377622           0.608534   \n",
      "\n",
      "   pctpubliccoveragealone  pctwhite  pctblack  pctasian  pctotherrace  \\\n",
      "0                0.259091  0.797112  0.030190  0.113138      0.043965   \n",
      "1                0.288636  0.880051  0.011275  0.052704      0.089228   \n",
      "2                0.420455  0.898912  0.008606  0.010932      0.065522   \n",
      "3                0.509091  0.908071  0.009106  0.027250      0.032498   \n",
      "4                0.456818  0.934344  0.003144  0.015623      0.011737   \n",
      "\n",
      "   pctmarriedhouseholds  birthrate  Target_death_rate  \n",
      "0              0.542157   0.286917           0.347080  \n",
      "1              0.406297   0.203182           0.335203  \n",
      "2              0.571001   0.174879           0.379413  \n",
      "3              0.508852   0.215878           0.445727  \n",
      "4              0.563423   0.318700           0.279446  \n",
      "\n",
      "[5 rows x 32 columns]\n",
      "<class 'pandas.core.frame.DataFrame'>\n",
      "RangeIndex: 3047 entries, 0 to 3046\n",
      "Data columns (total 32 columns):\n",
      "Unnamed: 0                 3047 non-null int64\n",
      "geography_                 3047 non-null object\n",
      "avganncount                3047 non-null float64\n",
      "avgdeathsperyear           3047 non-null float64\n",
      "incidencerate              3047 non-null float64\n",
      "medincome                  3047 non-null float64\n",
      "popest2015                 3047 non-null float64\n",
      "povertypercent             3047 non-null float64\n",
      "studypercap                3047 non-null float64\n",
      "medianage                  3047 non-null float64\n",
      "medianagemale              3047 non-null float64\n",
      "medianagefemale            3047 non-null float64\n",
      "percentmarried             3047 non-null float64\n",
      "pctnohs18_24               3047 non-null float64\n",
      "pcths18_24                 3047 non-null float64\n",
      "pctbachdeg18_24            3047 non-null float64\n",
      "pcths25_over               3047 non-null float64\n",
      "pctbachdeg25_over          3047 non-null float64\n",
      "pctemployed16_over         3047 non-null float64\n",
      "pctunemployed16_over       3047 non-null float64\n",
      "pctprivatecoverage         3047 non-null float64\n",
      "pctprivatecoveragealone    3047 non-null float64\n",
      "pctempprivcoverage         3047 non-null float64\n",
      "pctpubliccoverage          3047 non-null float64\n",
      "pctpubliccoveragealone     3047 non-null float64\n",
      "pctwhite                   3047 non-null float64\n",
      "pctblack                   3047 non-null float64\n",
      "pctasian                   3047 non-null float64\n",
      "pctotherrace               3047 non-null float64\n",
      "pctmarriedhouseholds       3047 non-null float64\n",
      "birthrate                  3047 non-null float64\n",
      "Target_death_rate          3047 non-null float64\n",
      "dtypes: float64(30), int64(1), object(1)\n",
      "memory usage: 761.8+ KB\n",
      "None\n"
     ]
    }
   ],
   "source": [
    "import pandas as pd \n",
    "import numpy as np \n",
    "from sklearn.linear_model import LinearRegression\n",
    "from sklearn.metrics import r2_score,mean_absolute_error,mean_squared_error\n",
    "\n",
    "\n",
    "df=pd.read_csv(\"kanser_reg_yeni\")\n",
    "print(df.head())\n",
    "print(df.info())"
   ]
  },
  {
   "cell_type": "code",
   "execution_count": 50,
   "metadata": {
    "ExecuteTime": {
     "end_time": "2020-12-14T08:45:08.315725Z",
     "start_time": "2020-12-14T08:45:08.300768Z"
    }
   },
   "outputs": [
    {
     "name": "stdout",
     "output_type": "stream",
     "text": [
      "                     geography_  avganncount  avgdeathsperyear  incidencerate  \\\n",
      "0     Kitsap County, Washington     0.036467          0.033269       0.286893   \n",
      "1   Kittitas County, Washington     0.004378          0.004783       0.209129   \n",
      "2  Klickitat County, Washington     0.002517          0.003355       0.147574   \n",
      "3      Lewis County, Washington     0.011037          0.014207       0.227824   \n",
      "4    Lincoln County, Washington     0.001337          0.001642       0.147971   \n",
      "\n",
      "   medincome  popest2015  povertypercent  studypercap  medianage  \\\n",
      "0   0.381164    0.025498        0.180995     0.051192   0.028253   \n",
      "1   0.247459    0.004173        0.348416     0.002367   0.017783   \n",
      "2   0.259314    0.001986        0.257919     0.004872   0.037726   \n",
      "3   0.209748    0.007380        0.314480     0.035098   0.034070   \n",
      "4   0.265207    0.000934        0.210407     0.000000   0.043211   \n",
      "\n",
      "   medianagemale        ...          pctempprivcoverage  pctpubliccoverage  \\\n",
      "0       0.342790        ...                    0.491259           0.402597   \n",
      "1       0.231678        ...                    0.526224           0.369202   \n",
      "2       0.510638        ...                    0.374126           0.573284   \n",
      "3       0.468085        ...                    0.375874           0.632653   \n",
      "4       0.600473        ...                    0.377622           0.608534   \n",
      "\n",
      "   pctpubliccoveragealone  pctwhite  pctblack  pctasian  pctotherrace  \\\n",
      "0                0.259091  0.797112  0.030190  0.113138      0.043965   \n",
      "1                0.288636  0.880051  0.011275  0.052704      0.089228   \n",
      "2                0.420455  0.898912  0.008606  0.010932      0.065522   \n",
      "3                0.509091  0.908071  0.009106  0.027250      0.032498   \n",
      "4                0.456818  0.934344  0.003144  0.015623      0.011737   \n",
      "\n",
      "   pctmarriedhouseholds  birthrate  Target_death_rate  \n",
      "0              0.542157   0.286917           0.347080  \n",
      "1              0.406297   0.203182           0.335203  \n",
      "2              0.571001   0.174879           0.379413  \n",
      "3              0.508852   0.215878           0.445727  \n",
      "4              0.563423   0.318700           0.279446  \n",
      "\n",
      "[5 rows x 31 columns]\n"
     ]
    }
   ],
   "source": [
    "df.drop([\"Unnamed: 0\"],axis=1,inplace=True)\n",
    "print(df.head())"
   ]
  },
  {
   "cell_type": "code",
   "execution_count": 51,
   "metadata": {
    "ExecuteTime": {
     "end_time": "2020-12-14T08:45:11.228761Z",
     "start_time": "2020-12-14T08:45:11.212805Z"
    }
   },
   "outputs": [
    {
     "name": "stdout",
     "output_type": "stream",
     "text": [
      "[0.3882636]   [[-0.40842065  0.83323652  0.63775722  0.03869438 -0.53198778  0.05373511\n",
      "   0.00274093 -0.00458469 -0.06357733 -0.0212567   0.20846005 -0.0297681\n",
      "   0.05159811 -0.01453252  0.06388922 -0.1547201  -0.10950747  0.01257288\n",
      "  -0.1178766   0.01295776  0.06596237 -0.04697802  0.05040585 -0.04126591\n",
      "  -0.01608942 -0.00696435 -0.12317455 -0.23165758 -0.06126807]]\n",
      "\n",
      "Score: 0.5232810640621852\n"
     ]
    }
   ],
   "source": [
    "x=df.iloc[:,1:30].values\n",
    "y=df.iloc[:,30:31].values\n",
    "mlr=LinearRegression()\n",
    "mlr.fit(x,y)\n",
    "print(mlr.intercept_,\" \",mlr.coef_)\n",
    "y_pred_mlr=mlr.predict(x)\n",
    "#print((y_pred_mlr))\n",
    "print(\"\")\n",
    "print(\"Score:\",mlr.score(x,y))"
   ]
  },
  {
   "cell_type": "code",
   "execution_count": 52,
   "metadata": {
    "ExecuteTime": {
     "end_time": "2020-12-14T08:45:12.040978Z",
     "start_time": "2020-12-14T08:45:12.033998Z"
    }
   },
   "outputs": [
    {
     "name": "stdout",
     "output_type": "stream",
     "text": [
      "Multiple Linear Regression\n",
      "r2 Skor :  0.5232810640621852\n",
      "mae Skor : 0.0466900152697521\n"
     ]
    }
   ],
   "source": [
    "print(\"Multiple Linear Regression\")\n",
    "print(\"r2 Skor : \",r2_score(y,y_pred_mlr))\n",
    "print(\"mae Skor :\",mean_absolute_error(y,y_pred_mlr))"
   ]
  },
  {
   "cell_type": "code",
   "execution_count": 47,
   "metadata": {
    "ExecuteTime": {
     "end_time": "2020-12-14T08:41:01.152210Z",
     "start_time": "2020-12-14T08:41:01.148180Z"
    }
   },
   "outputs": [],
   "source": [
    "# Veriler Train-Test olarak ayrıldı"
   ]
  },
  {
   "cell_type": "code",
   "execution_count": 53,
   "metadata": {
    "ExecuteTime": {
     "end_time": "2020-12-14T08:45:22.732595Z",
     "start_time": "2020-12-14T08:45:22.710893Z"
    }
   },
   "outputs": [
    {
     "name": "stdout",
     "output_type": "stream",
     "text": [
      "Multiple Linear Regression\n",
      "r2 Skor :  0.5250188423103213\n",
      "mae Skor : 0.047186074457397274\n"
     ]
    }
   ],
   "source": [
    "from sklearn.model_selection import train_test_split\n",
    "x_train, x_test,y_train,y_test=train_test_split(x,y,test_size=0.1,random_state=42)\n",
    "\n",
    "mlr=LinearRegression()\n",
    "mlr.fit(x_train,y_train)\n",
    "mlr_pred=mlr.predict(x_test)\n",
    "\n",
    "print(\"Multiple Linear Regression\")\n",
    "print(\"r2 Skor : \",r2_score(y_test,mlr_pred))\n",
    "print(\"mae Skor :\",mean_absolute_error(y_test,mlr_pred))"
   ]
  },
  {
   "cell_type": "markdown",
   "metadata": {},
   "source": [
    "### Polynomal Linear Regression"
   ]
  },
  {
   "cell_type": "code",
   "execution_count": 54,
   "metadata": {
    "ExecuteTime": {
     "end_time": "2020-12-14T08:45:25.795331Z",
     "start_time": "2020-12-14T08:45:25.659116Z"
    }
   },
   "outputs": [
    {
     "name": "stdout",
     "output_type": "stream",
     "text": [
      "[0.66417464] [[-2.69265688e-12 -9.13808745e+00  3.61018651e+01  3.14300844e-01\n",
      "   2.97848129e-01 -2.75242179e+01 -4.54187038e-01 -1.64543511e+00\n",
      "   9.00290647e-01  3.40047425e+00 -2.14666690e+00  5.70960125e-01\n",
      "  -1.04569061e+00  9.31603632e-02 -8.12009098e-01  1.82419810e-01\n",
      "  -1.69637237e+00  1.11817309e-01 -2.81553195e-01  3.69364960e-01\n",
      "   3.10361570e-01 -1.04893131e+00 -3.45556624e+00  2.57468903e+00\n",
      "   1.13432373e+00  6.24973159e-02  1.13196406e+00 -8.51707533e-02\n",
      "  -1.77717020e+00  6.91817664e-01  6.71194638e+01 -2.35166089e+01\n",
      "   2.01024260e+01 -4.43971102e+00 -5.56467630e+01  9.22002730e-01\n",
      "   4.92761983e+00 -9.78932264e-02 -2.05163098e-01 -9.11539052e-01\n",
      "   4.58494665e+00  1.48975528e-01  2.52058529e+00 -3.22218756e-01\n",
      "   1.95973065e+00  4.79790136e+00  2.02620815e+00  2.28574525e+00\n",
      "   6.17221839e+00 -3.70464738e+00 -3.15168406e+00 -3.46178933e+00\n",
      "   4.88900496e-01 -8.29935053e-01 -1.24300340e+01  8.21800300e+00\n",
      "   1.66870644e+00 -8.09331728e+00 -1.73587963e+00 -2.78765155e+01\n",
      "  -5.66787106e+00  2.61986737e+00  2.46979983e+01  2.19725499e+01\n",
      "  -1.12272936e+01  8.19156212e+00  4.08527705e+01 -3.24952854e+01\n",
      "  -4.19434858e+00 -3.60522317e+00  6.48026114e+00  1.10806897e+01\n",
      "  -4.48154838e+00 -1.45610165e+01  6.26999955e+00 -1.26578052e+01\n",
      "  -3.08193424e+00  2.30312148e+00 -6.56695308e+00  4.19140018e+00\n",
      "  -1.83753670e+01 -2.30237541e+01 -1.08923587e+01 -2.27109150e+01\n",
      "  -1.14902264e+01  1.40906153e+01  3.24771640e+00 -2.58444335e-01\n",
      "  -1.56696880e-01 -3.32741609e+01  9.16044272e-02  1.02167757e-01\n",
      "   1.47752894e-01  1.31787418e+00 -7.96219424e-01  1.16828731e-01\n",
      "   2.57205929e-01  4.04787584e-01 -9.16805130e-02 -8.50223225e-01\n",
      "  -6.83567053e-01 -9.29331248e-01 -9.15035506e-01  1.19831172e+00\n",
      "   4.27512563e-01  1.52638363e-01 -1.01148843e+00  2.03526109e+00\n",
      "  -1.38692737e-01  3.32866772e-01 -1.64817662e+00  7.59619758e-01\n",
      "   1.08202180e-02  3.04534248e-01 -6.16074300e-01  4.44115945e+00\n",
      "  -1.40611503e+00 -8.81511811e-01  2.12446417e+00 -1.90125368e-01\n",
      "  -2.16362922e+00  3.06134952e-01  3.95994948e-01  8.20542486e-02\n",
      "   2.10653239e-01 -3.37464811e-01  2.70887141e-01 -2.45248622e-01\n",
      "   2.67783218e-01  7.11362395e-01 -2.85057322e-01  4.56915316e-01\n",
      "   3.76677433e+00 -2.60707321e+00  1.30806229e-01  5.28209846e-01\n",
      "   2.44107131e-01 -5.95416176e-01  3.44235734e-02 -5.13085381e-01\n",
      "   1.54409296e+01 -2.71362163e+01  1.59061312e+00 -6.66773740e+00\n",
      "  -5.36347253e+01  2.35829244e+01  4.58885170e-01  8.22862065e+00\n",
      "  -1.23190722e+01 -1.77134706e+01  1.91253227e+00  1.56973404e+01\n",
      "  -2.53640191e+00  2.10464299e+01 -9.08876158e-01  8.10476936e-01\n",
      "   9.02935468e+00 -1.57974145e+01  3.19105504e+01  3.10748124e+01\n",
      "   2.51017982e+01  1.54010673e+01  1.11485157e+01 -1.02008681e+01\n",
      "  -3.73507715e+00  3.80976199e-02 -4.45371009e-01  1.12628011e+00\n",
      "  -2.70749765e+00  1.30377970e+00 -1.28823019e-01  2.03548608e-01\n",
      "  -1.00438646e-01  6.91101191e-01  2.64689418e-02  6.22715927e-01\n",
      "   2.72457681e-01  1.69002993e-01 -1.25670709e-01  4.53197856e-01\n",
      "  -9.37238966e-02  2.63073483e+00 -2.06845861e+00  2.94495957e-02\n",
      "  -1.70164428e-02 -1.07550637e+00 -4.06448402e-01  9.16361738e-01\n",
      "  -7.55460337e-01 -1.91855057e-01  4.32969166e+00 -7.68285418e-01\n",
      "  -1.01913695e+00  1.14265365e+00  1.35054448e-01 -1.78335759e-02\n",
      "   1.04737498e+00 -6.58406703e-01 -5.12234866e-01 -4.40819176e-01\n",
      "  -1.46189427e-01  7.22536590e-01 -1.12480305e+00  2.31824264e-01\n",
      "   3.08589316e+00 -2.49230453e+00  2.39275872e+00  2.73244381e+00\n",
      "   3.31311341e+00  7.90588973e-01 -2.82448459e-01 -3.19986699e-01\n",
      "  -2.36108616e+00  1.21305366e+00  1.45316053e+00 -8.82084312e-01\n",
      "   3.49972793e-01 -2.41471171e-01  1.83284670e-01 -2.32563681e-01\n",
      "  -1.40130065e+00  2.57990692e-02 -1.06703341e+00  4.67585101e-01\n",
      "  -3.69469970e-01 -5.67288511e-01 -3.76795157e-01  8.69724181e-01\n",
      "  -4.75280124e-01 -5.34550934e-01  2.65338440e+00 -1.16920600e+00\n",
      "   1.35637543e+00  1.94097347e-01 -1.86387160e-01 -7.38680128e-02\n",
      "   5.11458783e-01 -1.87344185e-01 -5.24411058e-01 -1.83406370e-01\n",
      "  -5.27787427e-01 -2.89532915e-01 -1.50282401e+00 -2.75443496e-01\n",
      "  -1.99934962e-01  1.95448746e-01 -1.08582062e+00 -1.84522486e+00\n",
      "   1.36326021e+00  1.10119904e-01  2.17440231e-01 -9.35947021e-01\n",
      "   4.34968199e-02 -1.25469996e+00  2.37359971e-02  1.51022288e-01\n",
      "  -1.82444076e+00  2.56081518e-01  3.34601893e-01 -3.37274146e-01\n",
      "  -2.16815711e-01  3.68679169e-01  1.34999208e+00  3.25242106e-01\n",
      "   6.31557825e-03 -2.13920407e-01  1.68876123e+00  1.12726848e+00\n",
      "  -8.98423782e-01  6.69288209e-02 -2.78054768e-01 -1.90837355e-01\n",
      "  -6.55757437e-01  2.40918413e+00  3.03888803e-01  4.33440568e-01\n",
      "  -3.50614193e-01 -4.35778199e-02  2.61897728e-01  8.76872288e-01\n",
      "   3.80076065e-01 -3.88303795e-01 -9.03430716e-02 -5.85934012e-01\n",
      "   6.15351191e-01 -1.01235383e-01  1.89376359e+00 -1.35981562e+00\n",
      "  -2.53559895e-01 -6.56884747e-01 -8.45102538e-01  6.18940963e-01\n",
      "  -1.03929908e+00 -5.82743937e-01  1.23588829e-01  1.28067918e-01\n",
      "  -4.03941886e-01 -1.15083964e-01 -2.67844673e-01  5.53836117e-02\n",
      "   6.34680957e-02  6.82318571e-01  2.38289973e-01 -3.76418688e-01\n",
      "   7.66790777e-02  1.87670065e-01  3.47874754e-01  3.50221907e-01\n",
      "   4.59976665e-01  3.92202955e-01  2.87433865e-01 -1.02452206e-01\n",
      "  -1.46225644e-02  1.31553410e-01  6.21161761e-02  1.40394684e-01\n",
      "  -3.81719577e-01  1.73557376e-02  5.83280568e-01 -2.30669015e-01\n",
      "  -1.89243002e-01 -2.91040163e-01  1.65899704e-01  1.52202232e-01\n",
      "   1.17376064e-01  6.48182628e-02  8.74067032e-02 -1.85236520e-01\n",
      "  -2.21471211e-01  2.52953020e-01 -1.69806495e-01 -5.01365668e-01\n",
      "   1.76034395e-01  3.96260553e-01  1.31279864e-01 -1.22130675e-02\n",
      "  -4.57499225e-01 -4.31313305e-01 -1.58078183e-01  6.99816641e-01\n",
      "   9.76940036e-01  8.60563739e-01 -3.44161939e-01  6.98601470e-01\n",
      "  -6.04140609e-02  1.07648422e-01  5.99823629e-01  2.44625579e-01\n",
      "   2.58439215e-01 -4.75461873e-01 -1.80677932e-01  2.68232705e-01\n",
      "   1.00676888e+00 -7.72484844e-01 -1.19402367e-01 -2.24265822e-01\n",
      "   1.10048522e+00 -2.02160868e-01 -7.10636707e-01  1.61741742e-01\n",
      "   5.00806839e-01  7.69492793e-01 -3.92868082e-01 -8.23030391e-02\n",
      "  -2.40495517e-01  5.32045779e-01  1.16705882e+00 -1.77389979e-01\n",
      "  -7.71122519e-02  3.82357528e-01  6.32190788e-01  7.11581255e-01\n",
      "  -4.67992346e-01  9.02206519e-02  1.98963387e-01  1.88106177e-01\n",
      "  -4.53877879e-01  9.09897065e-03  2.70761627e-01  1.19024716e+00\n",
      "  -9.14625683e-01 -1.02181106e+00 -3.69121690e-01 -1.04969278e+00\n",
      "  -8.71052711e-01  1.09472568e+00  1.87783834e-01  2.56814111e-01\n",
      "   9.15561169e-01 -6.89312990e-01  4.88344134e-01 -1.83192132e-01\n",
      "   2.37739079e-01 -3.76194432e-01 -3.33450889e-01  5.02853406e-01\n",
      "  -8.17446097e-01 -4.84877119e-02  1.99059958e-01 -2.82994285e-01\n",
      "   5.46686481e-01  5.18682093e-02 -7.22828265e-01 -3.76931482e-01\n",
      "  -1.09993991e-01 -8.71483428e-02 -7.98581464e-01  8.29649924e-01\n",
      "   7.92463679e-02 -6.84845438e-01 -5.06012592e-01 -3.69933023e-02\n",
      "  -6.91737746e-02 -7.71645913e-02 -2.11872830e-01 -4.31727535e-02\n",
      "   8.94327632e-01 -3.53981183e-02  1.74314326e-01 -1.54943022e-01\n",
      "   4.10748175e-02 -1.00124041e+00  1.89655872e+00  1.94371356e-01\n",
      "  -3.24629557e-01 -4.14516283e-01 -5.75242814e-01 -3.49453526e-02\n",
      "   3.06502082e-01  1.21780717e+00 -1.54456521e+00  5.72203216e-01\n",
      "   1.29208991e+00  1.21422895e+00  4.59672128e-01 -9.53777507e-01\n",
      "   1.08836955e-01  7.01590098e-01 -1.09153586e+00 -1.16728793e+00\n",
      "  -1.82100502e+00 -3.50171913e-01  7.14908862e-01 -3.63529805e-01\n",
      "  -3.78939656e-01 -1.90430583e-01 -4.09506658e-01  3.15912941e-01\n",
      "   5.52016858e-01 -1.21052107e-01  5.17491367e-02  2.46228770e-01\n",
      "   9.67655303e-01  8.85512185e-01 -2.43000568e-01  2.75297841e-02\n",
      "   9.60990014e-01  3.04935883e-01  6.45042798e-01  4.60312084e-01\n",
      "  -2.16678243e-01 -3.53007959e-01  5.95517278e-01  2.87195191e-01\n",
      "   2.59965650e-02]]\n",
      "1.0\n"
     ]
    }
   ],
   "source": [
    "from sklearn.preprocessing import PolynomialFeatures\n",
    "plr=PolynomialFeatures(degree=2)\n",
    "\n",
    "x_pol=plr.fit_transform(x)\n",
    "\n",
    "lr_pol=LinearRegression()\n",
    "lr_pol.fit(x_pol,y)\n",
    "\n",
    "print(lr_pol.intercept_,lr_pol.coef_)\n",
    "\n",
    "#xnew=plr.fit_transform(x_pol)\n",
    "y_pred_pol=lr_pol.predict(x_pol)\n",
    "\n",
    "#print(int(y_pred_pol))\n",
    "print(lr_pol.score(x_pol,y_pred_pol))"
   ]
  },
  {
   "cell_type": "code",
   "execution_count": 56,
   "metadata": {
    "ExecuteTime": {
     "end_time": "2020-12-14T08:45:51.372687Z",
     "start_time": "2020-12-14T08:45:51.367701Z"
    }
   },
   "outputs": [
    {
     "name": "stdout",
     "output_type": "stream",
     "text": [
      "r2 Skor :  0.7132429195383598\n",
      "mae Skor : 0.036820672417417454\n"
     ]
    }
   ],
   "source": [
    "print(\"r2 Skor : \",r2_score(y,y_pred_pol))\n",
    "print(\"mae Skor :\",mean_absolute_error(y,y_pred_pol))"
   ]
  },
  {
   "cell_type": "markdown",
   "metadata": {},
   "source": [
    "### Decision Tree"
   ]
  },
  {
   "cell_type": "code",
   "execution_count": 58,
   "metadata": {
    "ExecuteTime": {
     "end_time": "2020-12-14T08:46:41.084481Z",
     "start_time": "2020-12-14T08:46:40.896651Z"
    }
   },
   "outputs": [],
   "source": [
    "import pandas as pd\n",
    "import numpy as np\n",
    "from sklearn.tree import DecisionTreeRegressor\n",
    "from sklearn.metrics import r2_score,mean_absolute_error,mean_squared_error\n",
    "\n",
    "x=df.iloc[:,1:30].values\n",
    "y=df.iloc[:,30:31].values\n",
    "\n",
    "dt=DecisionTreeRegressor(random_state=42)\n",
    "dt.fit(x,y)\n",
    "dt_pred=dt.predict(x)\n"
   ]
  },
  {
   "cell_type": "code",
   "execution_count": 59,
   "metadata": {
    "ExecuteTime": {
     "end_time": "2020-12-14T08:46:43.691184Z",
     "start_time": "2020-12-14T08:46:43.684203Z"
    }
   },
   "outputs": [
    {
     "name": "stdout",
     "output_type": "stream",
     "text": [
      "Decision Tree Regressor\n",
      "R2 Skor :  0.9999998145674036\n",
      "Mae Skor : 7.97650475408695e-06\n"
     ]
    }
   ],
   "source": [
    "print(\"Decision Tree Regressor\")\n",
    "print(\"R2 Skor : \",r2_score(y,dt_pred))\n",
    "print(\"Mae Skor :\",mean_absolute_error(y,dt_pred))"
   ]
  },
  {
   "cell_type": "code",
   "execution_count": 60,
   "metadata": {
    "ExecuteTime": {
     "end_time": "2020-12-14T08:46:47.324748Z",
     "start_time": "2020-12-14T08:46:47.321756Z"
    }
   },
   "outputs": [],
   "source": [
    "# Veriler Train-Test Split OLaral Ayrıldı"
   ]
  },
  {
   "cell_type": "code",
   "execution_count": 61,
   "metadata": {
    "ExecuteTime": {
     "end_time": "2020-12-14T08:46:47.833956Z",
     "start_time": "2020-12-14T08:46:47.746968Z"
    }
   },
   "outputs": [],
   "source": [
    "dt=DecisionTreeRegressor(random_state=42)\n",
    "dt.fit(x_train,y_train)\n",
    "dt_pred=dt.predict(x_test)"
   ]
  },
  {
   "cell_type": "code",
   "execution_count": 62,
   "metadata": {
    "ExecuteTime": {
     "end_time": "2020-12-14T08:46:48.341457Z",
     "start_time": "2020-12-14T08:46:48.335473Z"
    }
   },
   "outputs": [
    {
     "name": "stdout",
     "output_type": "stream",
     "text": [
      "Decision Tree Regressor\n",
      "R2 Skor :  0.12584333994803054\n",
      "MAE Skor :  0.06340294191352382\n"
     ]
    }
   ],
   "source": [
    "print(\"Decision Tree Regressor\")\n",
    "print(\"R2 Skor : \",r2_score(y_test,dt_pred))\n",
    "print(\"MAE Skor : \",mean_absolute_error(y_test,dt_pred))\n"
   ]
  },
  {
   "cell_type": "markdown",
   "metadata": {},
   "source": [
    "### Rondom Forest"
   ]
  },
  {
   "cell_type": "code",
   "execution_count": 64,
   "metadata": {
    "ExecuteTime": {
     "end_time": "2020-12-14T08:47:40.794606Z",
     "start_time": "2020-12-14T08:47:36.004488Z"
    }
   },
   "outputs": [],
   "source": [
    "from sklearn.ensemble import RandomForestRegressor\n",
    "\n",
    "rf=RandomForestRegressor(n_estimators=100,random_state=42)\n",
    "rf.fit(x,y.ravel())\n",
    "rf_pred=rf.predict(x)"
   ]
  },
  {
   "cell_type": "code",
   "execution_count": 65,
   "metadata": {
    "ExecuteTime": {
     "end_time": "2020-12-14T08:47:41.017178Z",
     "start_time": "2020-12-14T08:47:41.009184Z"
    }
   },
   "outputs": [
    {
     "name": "stdout",
     "output_type": "stream",
     "text": [
      "Random Forest Regressor\n",
      "R2 Skor :  0.9358018825460414\n",
      "MAE Skor :  0.016758617092099477\n"
     ]
    }
   ],
   "source": [
    "print(\"Random Forest Regressor\")\n",
    "print(\"R2 Skor : \",r2_score(y,rf_pred))\n",
    "print(\"MAE Skor : \",mean_absolute_error(y,rf_pred))\n"
   ]
  },
  {
   "cell_type": "code",
   "execution_count": 66,
   "metadata": {
    "ExecuteTime": {
     "end_time": "2020-12-14T08:47:42.350799Z",
     "start_time": "2020-12-14T08:47:42.346810Z"
    }
   },
   "outputs": [],
   "source": [
    "# Veriler Train-Test Split OLaral Ayrıldı"
   ]
  },
  {
   "cell_type": "code",
   "execution_count": 67,
   "metadata": {
    "ExecuteTime": {
     "end_time": "2020-12-14T08:47:47.058133Z",
     "start_time": "2020-12-14T08:47:42.793576Z"
    }
   },
   "outputs": [],
   "source": [
    "rf=RandomForestRegressor(n_estimators=100,random_state=42)\n",
    "rf.fit(x_train,y_train.ravel())\n",
    "rf_pred=rf.predict(x_test)"
   ]
  },
  {
   "cell_type": "code",
   "execution_count": 68,
   "metadata": {
    "ExecuteTime": {
     "end_time": "2020-12-14T08:47:47.287257Z",
     "start_time": "2020-12-14T08:47:47.279277Z"
    }
   },
   "outputs": [
    {
     "name": "stdout",
     "output_type": "stream",
     "text": [
      "Random Forest Regressor\n",
      "R2 Skor :  0.5770420249070561\n",
      "MAE Skor :  0.04398837884148472\n"
     ]
    }
   ],
   "source": [
    "print(\"Random Forest Regressor\")\n",
    "print(\"R2 Skor : \",r2_score(y_test,rf_pred))\n",
    "print(\"MAE Skor : \",mean_absolute_error(y_test,rf_pred))\n"
   ]
  },
  {
   "cell_type": "markdown",
   "metadata": {},
   "source": [
    "## Genel Değerlendirme"
   ]
  },
  {
   "cell_type": "code",
   "execution_count": 69,
   "metadata": {
    "ExecuteTime": {
     "end_time": "2020-12-14T08:47:53.810573Z",
     "start_time": "2020-12-14T08:47:53.797606Z"
    }
   },
   "outputs": [
    {
     "name": "stdout",
     "output_type": "stream",
     "text": [
      "Multiple Linear Regression\n",
      "R2 Skor :  0.5250188423103213\n",
      "MAE Skor : 0.047186074457397274\n",
      " \n",
      "Decision Tree Regressor\n",
      "R2 Skor :  0.12584333994803054\n",
      "MAE Skor :  0.06340294191352382\n",
      " \n",
      "Random Forest Regressor\n",
      "R2 Skor :  0.5770420249070561\n",
      "MAE Skor :  0.04398837884148472\n"
     ]
    }
   ],
   "source": [
    "print(\"Multiple Linear Regression\")\n",
    "print(\"R2 Skor : \",r2_score(y_test,mlr_pred))\n",
    "print(\"MAE Skor :\",mean_absolute_error(y_test,mlr_pred))\n",
    "print(\" \")\n",
    "print(\"Decision Tree Regressor\")\n",
    "print(\"R2 Skor : \",r2_score(y_test,dt_pred))\n",
    "print(\"MAE Skor : \",mean_absolute_error(y_test,dt_pred))\n",
    "print(\" \")\n",
    "print(\"Random Forest Regressor\")\n",
    "print(\"R2 Skor : \",r2_score(y_test,rf_pred))\n",
    "print(\"MAE Skor : \",mean_absolute_error(y_test,rf_pred))"
   ]
  },
  {
   "cell_type": "code",
   "execution_count": null,
   "metadata": {},
   "outputs": [],
   "source": []
  }
 ],
 "metadata": {
  "kernelspec": {
   "display_name": "Python 3",
   "language": "python",
   "name": "python3"
  },
  "language_info": {
   "codemirror_mode": {
    "name": "ipython",
    "version": 3
   },
   "file_extension": ".py",
   "mimetype": "text/x-python",
   "name": "python",
   "nbconvert_exporter": "python",
   "pygments_lexer": "ipython3",
   "version": "3.7.1"
  },
  "toc": {
   "base_numbering": 1,
   "nav_menu": {},
   "number_sections": true,
   "sideBar": true,
   "skip_h1_title": false,
   "title_cell": "Table of Contents",
   "title_sidebar": "Contents",
   "toc_cell": false,
   "toc_position": {},
   "toc_section_display": true,
   "toc_window_display": true
  },
  "varInspector": {
   "cols": {
    "lenName": 16,
    "lenType": 16,
    "lenVar": 40
   },
   "kernels_config": {
    "python": {
     "delete_cmd_postfix": "",
     "delete_cmd_prefix": "del ",
     "library": "var_list.py",
     "varRefreshCmd": "print(var_dic_list())"
    },
    "r": {
     "delete_cmd_postfix": ") ",
     "delete_cmd_prefix": "rm(",
     "library": "var_list.r",
     "varRefreshCmd": "cat(var_dic_list()) "
    }
   },
   "types_to_exclude": [
    "module",
    "function",
    "builtin_function_or_method",
    "instance",
    "_Feature"
   ],
   "window_display": false
  }
 },
 "nbformat": 4,
 "nbformat_minor": 2
}
